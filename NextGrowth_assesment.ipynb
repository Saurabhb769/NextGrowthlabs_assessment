{
 "cells": [
  {
   "cell_type": "markdown",
   "id": "8bf873ac",
   "metadata": {},
   "source": [
    "PART 1"
   ]
  },
  {
   "cell_type": "markdown",
   "id": "d16733b3",
   "metadata": {},
   "source": [
    "1. EXTRACT THE NUMBERS WHICH ARE IN YELLOW COLOURS"
   ]
  },
  {
   "cell_type": "code",
   "execution_count": 1,
   "id": "6cc03ab4",
   "metadata": {},
   "outputs": [],
   "source": [
    "a = {\"orders\":[{\"id\":1},{\"id\":2},{\"id\":3},{\"id\":4},{\"id\":5},{\"id\":6},{\"id\":7},{\"id\":8},{\"id\":9},{\"id\":10},{\"id\":11},{\"id\":648},{\"id\":649},{\"id\":650},{\"id\":651},{\"id\":652},{\"id\":653}],\"errors\":[{\"code\":3,\"message\":\"[PHP Warning #2] count(): Parameter must be an array or an object that implements Countable (153)\"}]}\n"
   ]
  },
  {
   "cell_type": "code",
   "execution_count": 2,
   "id": "efc30447",
   "metadata": {},
   "outputs": [],
   "source": [
    "import re\n",
    "import json"
   ]
  },
  {
   "cell_type": "code",
   "execution_count": 3,
   "id": "0c2e00ba",
   "metadata": {},
   "outputs": [
    {
     "data": {
      "text/plain": [
       "'{\"orders\": [{\"id\": 1}, {\"id\": 2}, {\"id\": 3}, {\"id\": 4}, {\"id\": 5}, {\"id\": 6}, {\"id\": 7}, {\"id\": 8}, {\"id\": 9}, {\"id\": 10}, {\"id\": 11}, {\"id\": 648}, {\"id\": 649}, {\"id\": 650}, {\"id\": 651}, {\"id\": 652}, {\"id\": 653}], \"errors\": [{\"code\": 3, \"message\": \"[PHP Warning #2] count(): Parameter must be an array or an object that implements Countable (153)\"}]}'"
      ]
     },
     "execution_count": 3,
     "metadata": {},
     "output_type": "execute_result"
    }
   ],
   "source": [
    "y = json.dumps(a)\n",
    "y"
   ]
  },
  {
   "cell_type": "code",
   "execution_count": 4,
   "id": "40c0c699",
   "metadata": {},
   "outputs": [
    {
     "name": "stdout",
     "output_type": "stream",
     "text": [
      "['1', '2', '3', '4', '5', '6', '7', '8', '9', '10', '11', '648', '649', '650', '651', '652', '653', '3']\n"
     ]
    }
   ],
   "source": [
    "num = [i for i in re.findall(\"\\d*\",y) if i]\n",
    "yellow_numbers = []\n",
    "for i in num[:-2]:\n",
    "    yellow_numbers.append(i)\n",
    "print(yellow_numbers)"
   ]
  },
  {
   "cell_type": "markdown",
   "id": "3556831f",
   "metadata": {},
   "source": [
    "PART 2"
   ]
  },
  {
   "cell_type": "markdown",
   "id": "21339cd9",
   "metadata": {},
   "source": [
    "1. Train a machine learning model (preferably with a neural network) that \n",
    "predicts the customer who is going to be checked in. Once done, please test \n",
    "the prediction with below test data.\n"
   ]
  },
  {
   "cell_type": "code",
   "execution_count": 5,
   "id": "e8f16f70",
   "metadata": {},
   "outputs": [],
   "source": [
    "import pandas as pd\n",
    "from sklearn.preprocessing import LabelEncoder"
   ]
  },
  {
   "cell_type": "code",
   "execution_count": 6,
   "id": "c34e4321",
   "metadata": {},
   "outputs": [],
   "source": [
    "df_train = pd.read_csv('train_data_evaluation_part_2.csv')"
   ]
  },
  {
   "cell_type": "code",
   "execution_count": 7,
   "id": "f4d2ffaf",
   "metadata": {
    "scrolled": true
   },
   "outputs": [
    {
     "data": {
      "text/html": [
       "<div>\n",
       "<style scoped>\n",
       "    .dataframe tbody tr th:only-of-type {\n",
       "        vertical-align: middle;\n",
       "    }\n",
       "\n",
       "    .dataframe tbody tr th {\n",
       "        vertical-align: top;\n",
       "    }\n",
       "\n",
       "    .dataframe thead th {\n",
       "        text-align: right;\n",
       "    }\n",
       "</style>\n",
       "<table border=\"1\" class=\"dataframe\">\n",
       "  <thead>\n",
       "    <tr style=\"text-align: right;\">\n",
       "      <th></th>\n",
       "      <th>Unnamed: 0</th>\n",
       "      <th>ID</th>\n",
       "      <th>Nationality</th>\n",
       "      <th>Age</th>\n",
       "      <th>DaysSinceCreation</th>\n",
       "      <th>AverageLeadTime</th>\n",
       "      <th>LodgingRevenue</th>\n",
       "      <th>OtherRevenue</th>\n",
       "      <th>BookingsCanceled</th>\n",
       "      <th>BookingsNoShowed</th>\n",
       "      <th>...</th>\n",
       "      <th>SRMediumFloor</th>\n",
       "      <th>SRBathtub</th>\n",
       "      <th>SRShower</th>\n",
       "      <th>SRCrib</th>\n",
       "      <th>SRKingSizeBed</th>\n",
       "      <th>SRTwinBed</th>\n",
       "      <th>SRNearElevator</th>\n",
       "      <th>SRAwayFromElevator</th>\n",
       "      <th>SRNoAlcoholInMiniBar</th>\n",
       "      <th>SRQuietRoom</th>\n",
       "    </tr>\n",
       "  </thead>\n",
       "  <tbody>\n",
       "    <tr>\n",
       "      <th>0</th>\n",
       "      <td>0</td>\n",
       "      <td>1</td>\n",
       "      <td>PRT</td>\n",
       "      <td>51.0</td>\n",
       "      <td>150</td>\n",
       "      <td>45</td>\n",
       "      <td>371.0</td>\n",
       "      <td>105.3</td>\n",
       "      <td>1</td>\n",
       "      <td>0</td>\n",
       "      <td>...</td>\n",
       "      <td>0</td>\n",
       "      <td>0</td>\n",
       "      <td>0</td>\n",
       "      <td>0</td>\n",
       "      <td>0</td>\n",
       "      <td>0</td>\n",
       "      <td>0</td>\n",
       "      <td>0</td>\n",
       "      <td>0</td>\n",
       "      <td>0</td>\n",
       "    </tr>\n",
       "    <tr>\n",
       "      <th>1</th>\n",
       "      <td>1</td>\n",
       "      <td>2</td>\n",
       "      <td>PRT</td>\n",
       "      <td>NaN</td>\n",
       "      <td>1095</td>\n",
       "      <td>61</td>\n",
       "      <td>280.0</td>\n",
       "      <td>53.0</td>\n",
       "      <td>0</td>\n",
       "      <td>0</td>\n",
       "      <td>...</td>\n",
       "      <td>0</td>\n",
       "      <td>0</td>\n",
       "      <td>0</td>\n",
       "      <td>0</td>\n",
       "      <td>0</td>\n",
       "      <td>0</td>\n",
       "      <td>0</td>\n",
       "      <td>0</td>\n",
       "      <td>0</td>\n",
       "      <td>0</td>\n",
       "    </tr>\n",
       "  </tbody>\n",
       "</table>\n",
       "<p>2 rows × 30 columns</p>\n",
       "</div>"
      ],
      "text/plain": [
       "   Unnamed: 0  ID Nationality   Age  DaysSinceCreation  AverageLeadTime  \\\n",
       "0           0   1         PRT  51.0                150               45   \n",
       "1           1   2         PRT   NaN               1095               61   \n",
       "\n",
       "   LodgingRevenue  OtherRevenue  BookingsCanceled  BookingsNoShowed  ...  \\\n",
       "0           371.0         105.3                 1                 0  ...   \n",
       "1           280.0          53.0                 0                 0  ...   \n",
       "\n",
       "   SRMediumFloor  SRBathtub  SRShower  SRCrib  SRKingSizeBed SRTwinBed  \\\n",
       "0              0          0         0       0              0         0   \n",
       "1              0          0         0       0              0         0   \n",
       "\n",
       "  SRNearElevator  SRAwayFromElevator  SRNoAlcoholInMiniBar  SRQuietRoom  \n",
       "0              0                   0                     0            0  \n",
       "1              0                   0                     0            0  \n",
       "\n",
       "[2 rows x 30 columns]"
      ]
     },
     "execution_count": 7,
     "metadata": {},
     "output_type": "execute_result"
    }
   ],
   "source": [
    "df_train.head(2)"
   ]
  },
  {
   "cell_type": "markdown",
   "id": "3f48c8c5",
   "metadata": {},
   "source": [
    "DATA CLEANING"
   ]
  },
  {
   "cell_type": "code",
   "execution_count": 8,
   "id": "c599cb30",
   "metadata": {},
   "outputs": [
    {
     "data": {
      "text/plain": [
       "Unnamed: 0              0.000000\n",
       "ID                      0.000000\n",
       "Nationality             0.000000\n",
       "Age                     0.045362\n",
       "DaysSinceCreation       0.000000\n",
       "AverageLeadTime         0.000000\n",
       "LodgingRevenue          0.000000\n",
       "OtherRevenue            0.000000\n",
       "BookingsCanceled        0.000000\n",
       "BookingsNoShowed        0.000000\n",
       "BookingsCheckedIn       0.000000\n",
       "PersonsNights           0.000000\n",
       "RoomNights              0.000000\n",
       "DaysSinceLastStay       0.000000\n",
       "DaysSinceFirstStay      0.000000\n",
       "DistributionChannel     0.000000\n",
       "MarketSegment           0.000000\n",
       "SRHighFloor             0.000000\n",
       "SRLowFloor              0.000000\n",
       "SRAccessibleRoom        0.000000\n",
       "SRMediumFloor           0.000000\n",
       "SRBathtub               0.000000\n",
       "SRShower                0.000000\n",
       "SRCrib                  0.000000\n",
       "SRKingSizeBed           0.000000\n",
       "SRTwinBed               0.000000\n",
       "SRNearElevator          0.000000\n",
       "SRAwayFromElevator      0.000000\n",
       "SRNoAlcoholInMiniBar    0.000000\n",
       "SRQuietRoom             0.000000\n",
       "dtype: float64"
      ]
     },
     "execution_count": 8,
     "metadata": {},
     "output_type": "execute_result"
    }
   ],
   "source": [
    "df_train.isnull().mean()"
   ]
  },
  {
   "cell_type": "code",
   "execution_count": 9,
   "id": "a2267c60",
   "metadata": {},
   "outputs": [],
   "source": [
    "df_train['Age'] = df_train['Age'].fillna(df_train.Age.median())"
   ]
  },
  {
   "cell_type": "code",
   "execution_count": 10,
   "id": "db2c8030",
   "metadata": {},
   "outputs": [
    {
     "name": "stdout",
     "output_type": "stream",
     "text": [
      "<class 'pandas.core.frame.DataFrame'>\n",
      "RangeIndex: 82580 entries, 0 to 82579\n",
      "Data columns (total 30 columns):\n",
      " #   Column                Non-Null Count  Dtype  \n",
      "---  ------                --------------  -----  \n",
      " 0   Unnamed: 0            82580 non-null  int64  \n",
      " 1   ID                    82580 non-null  int64  \n",
      " 2   Nationality           82580 non-null  object \n",
      " 3   Age                   82580 non-null  float64\n",
      " 4   DaysSinceCreation     82580 non-null  int64  \n",
      " 5   AverageLeadTime       82580 non-null  int64  \n",
      " 6   LodgingRevenue        82580 non-null  float64\n",
      " 7   OtherRevenue          82580 non-null  float64\n",
      " 8   BookingsCanceled      82580 non-null  int64  \n",
      " 9   BookingsNoShowed      82580 non-null  int64  \n",
      " 10  BookingsCheckedIn     82580 non-null  int64  \n",
      " 11  PersonsNights         82580 non-null  int64  \n",
      " 12  RoomNights            82580 non-null  int64  \n",
      " 13  DaysSinceLastStay     82580 non-null  int64  \n",
      " 14  DaysSinceFirstStay    82580 non-null  int64  \n",
      " 15  DistributionChannel   82580 non-null  object \n",
      " 16  MarketSegment         82580 non-null  object \n",
      " 17  SRHighFloor           82580 non-null  int64  \n",
      " 18  SRLowFloor            82580 non-null  int64  \n",
      " 19  SRAccessibleRoom      82580 non-null  int64  \n",
      " 20  SRMediumFloor         82580 non-null  int64  \n",
      " 21  SRBathtub             82580 non-null  int64  \n",
      " 22  SRShower              82580 non-null  int64  \n",
      " 23  SRCrib                82580 non-null  int64  \n",
      " 24  SRKingSizeBed         82580 non-null  int64  \n",
      " 25  SRTwinBed             82580 non-null  int64  \n",
      " 26  SRNearElevator        82580 non-null  int64  \n",
      " 27  SRAwayFromElevator    82580 non-null  int64  \n",
      " 28  SRNoAlcoholInMiniBar  82580 non-null  int64  \n",
      " 29  SRQuietRoom           82580 non-null  int64  \n",
      "dtypes: float64(3), int64(24), object(3)\n",
      "memory usage: 18.9+ MB\n"
     ]
    }
   ],
   "source": [
    "df_train.info()"
   ]
  },
  {
   "cell_type": "code",
   "execution_count": 11,
   "id": "62db66d3",
   "metadata": {
    "scrolled": true
   },
   "outputs": [
    {
     "data": {
      "text/plain": [
       "array([ 3,  1,  0,  9,  2, 11, 12,  7,  8,  5,  6,  4, 66, 15, 29, 25, 10,\n",
       "       17, 13, 26, 23, 57, 40, 18, 14, 24, 19, 20, 34], dtype=int64)"
      ]
     },
     "execution_count": 11,
     "metadata": {},
     "output_type": "execute_result"
    }
   ],
   "source": [
    "df_train.BookingsCheckedIn.unique()"
   ]
  },
  {
   "cell_type": "markdown",
   "id": "1eb7014d",
   "metadata": {},
   "source": [
    "\n",
    "THIS IS HAVE TO CHEKING CUSTOME WILL CHEKKED IN OR NOT SO WE WILL CONSIDER ONLY 0 AND 1 FOR BOOKING CHEKED IN"
   ]
  },
  {
   "cell_type": "markdown",
   "id": "9f2dd10e",
   "metadata": {},
   "source": [
    "COMBINING 2-66 IN 1 CATEGORY"
   ]
  },
  {
   "cell_type": "code",
   "execution_count": 12,
   "id": "669fe495",
   "metadata": {},
   "outputs": [],
   "source": [
    "df_train['BookingsCheckedIn']=df_train.BookingsCheckedIn.replace(to_replace=[9, 3, 2, 4,  11, 12,  7,  8,  5,  6, 66, 15, 29, 25, 10, 17, 13, 26,\n",
    "       23, 57, 40, 18, 14, 24, 19, 20, 34],\n",
    "           value= 1)"
   ]
  },
  {
   "cell_type": "code",
   "execution_count": 13,
   "id": "ce7a585b",
   "metadata": {},
   "outputs": [
    {
     "data": {
      "text/plain": [
       "array([1, 0], dtype=int64)"
      ]
     },
     "execution_count": 13,
     "metadata": {},
     "output_type": "execute_result"
    }
   ],
   "source": [
    "df_train.BookingsCheckedIn.unique()"
   ]
  },
  {
   "cell_type": "code",
   "execution_count": 14,
   "id": "44943b12",
   "metadata": {},
   "outputs": [
    {
     "data": {
      "text/html": [
       "<div>\n",
       "<style scoped>\n",
       "    .dataframe tbody tr th:only-of-type {\n",
       "        vertical-align: middle;\n",
       "    }\n",
       "\n",
       "    .dataframe tbody tr th {\n",
       "        vertical-align: top;\n",
       "    }\n",
       "\n",
       "    .dataframe thead th {\n",
       "        text-align: right;\n",
       "    }\n",
       "</style>\n",
       "<table border=\"1\" class=\"dataframe\">\n",
       "  <thead>\n",
       "    <tr style=\"text-align: right;\">\n",
       "      <th></th>\n",
       "      <th>Unnamed: 0</th>\n",
       "      <th>ID</th>\n",
       "      <th>Nationality</th>\n",
       "      <th>Age</th>\n",
       "      <th>DaysSinceCreation</th>\n",
       "      <th>AverageLeadTime</th>\n",
       "      <th>LodgingRevenue</th>\n",
       "      <th>OtherRevenue</th>\n",
       "      <th>BookingsCanceled</th>\n",
       "      <th>BookingsNoShowed</th>\n",
       "      <th>...</th>\n",
       "      <th>SRMediumFloor</th>\n",
       "      <th>SRBathtub</th>\n",
       "      <th>SRShower</th>\n",
       "      <th>SRCrib</th>\n",
       "      <th>SRKingSizeBed</th>\n",
       "      <th>SRTwinBed</th>\n",
       "      <th>SRNearElevator</th>\n",
       "      <th>SRAwayFromElevator</th>\n",
       "      <th>SRNoAlcoholInMiniBar</th>\n",
       "      <th>SRQuietRoom</th>\n",
       "    </tr>\n",
       "  </thead>\n",
       "  <tbody>\n",
       "    <tr>\n",
       "      <th>0</th>\n",
       "      <td>0</td>\n",
       "      <td>1</td>\n",
       "      <td>PRT</td>\n",
       "      <td>51.0</td>\n",
       "      <td>150</td>\n",
       "      <td>45</td>\n",
       "      <td>371.0</td>\n",
       "      <td>105.3</td>\n",
       "      <td>1</td>\n",
       "      <td>0</td>\n",
       "      <td>...</td>\n",
       "      <td>0</td>\n",
       "      <td>0</td>\n",
       "      <td>0</td>\n",
       "      <td>0</td>\n",
       "      <td>0</td>\n",
       "      <td>0</td>\n",
       "      <td>0</td>\n",
       "      <td>0</td>\n",
       "      <td>0</td>\n",
       "      <td>0</td>\n",
       "    </tr>\n",
       "    <tr>\n",
       "      <th>1</th>\n",
       "      <td>1</td>\n",
       "      <td>2</td>\n",
       "      <td>PRT</td>\n",
       "      <td>46.0</td>\n",
       "      <td>1095</td>\n",
       "      <td>61</td>\n",
       "      <td>280.0</td>\n",
       "      <td>53.0</td>\n",
       "      <td>0</td>\n",
       "      <td>0</td>\n",
       "      <td>...</td>\n",
       "      <td>0</td>\n",
       "      <td>0</td>\n",
       "      <td>0</td>\n",
       "      <td>0</td>\n",
       "      <td>0</td>\n",
       "      <td>0</td>\n",
       "      <td>0</td>\n",
       "      <td>0</td>\n",
       "      <td>0</td>\n",
       "      <td>0</td>\n",
       "    </tr>\n",
       "    <tr>\n",
       "      <th>2</th>\n",
       "      <td>2</td>\n",
       "      <td>3</td>\n",
       "      <td>DEU</td>\n",
       "      <td>31.0</td>\n",
       "      <td>1095</td>\n",
       "      <td>0</td>\n",
       "      <td>0.0</td>\n",
       "      <td>0.0</td>\n",
       "      <td>0</td>\n",
       "      <td>0</td>\n",
       "      <td>...</td>\n",
       "      <td>0</td>\n",
       "      <td>0</td>\n",
       "      <td>0</td>\n",
       "      <td>0</td>\n",
       "      <td>0</td>\n",
       "      <td>0</td>\n",
       "      <td>0</td>\n",
       "      <td>0</td>\n",
       "      <td>0</td>\n",
       "      <td>0</td>\n",
       "    </tr>\n",
       "    <tr>\n",
       "      <th>3</th>\n",
       "      <td>3</td>\n",
       "      <td>4</td>\n",
       "      <td>FRA</td>\n",
       "      <td>60.0</td>\n",
       "      <td>1095</td>\n",
       "      <td>93</td>\n",
       "      <td>240.0</td>\n",
       "      <td>60.0</td>\n",
       "      <td>0</td>\n",
       "      <td>0</td>\n",
       "      <td>...</td>\n",
       "      <td>0</td>\n",
       "      <td>0</td>\n",
       "      <td>0</td>\n",
       "      <td>0</td>\n",
       "      <td>0</td>\n",
       "      <td>0</td>\n",
       "      <td>0</td>\n",
       "      <td>0</td>\n",
       "      <td>0</td>\n",
       "      <td>0</td>\n",
       "    </tr>\n",
       "    <tr>\n",
       "      <th>4</th>\n",
       "      <td>4</td>\n",
       "      <td>5</td>\n",
       "      <td>FRA</td>\n",
       "      <td>51.0</td>\n",
       "      <td>1095</td>\n",
       "      <td>0</td>\n",
       "      <td>0.0</td>\n",
       "      <td>0.0</td>\n",
       "      <td>0</td>\n",
       "      <td>0</td>\n",
       "      <td>...</td>\n",
       "      <td>0</td>\n",
       "      <td>0</td>\n",
       "      <td>0</td>\n",
       "      <td>0</td>\n",
       "      <td>0</td>\n",
       "      <td>0</td>\n",
       "      <td>0</td>\n",
       "      <td>0</td>\n",
       "      <td>0</td>\n",
       "      <td>0</td>\n",
       "    </tr>\n",
       "  </tbody>\n",
       "</table>\n",
       "<p>5 rows × 30 columns</p>\n",
       "</div>"
      ],
      "text/plain": [
       "   Unnamed: 0  ID Nationality   Age  DaysSinceCreation  AverageLeadTime  \\\n",
       "0           0   1         PRT  51.0                150               45   \n",
       "1           1   2         PRT  46.0               1095               61   \n",
       "2           2   3         DEU  31.0               1095                0   \n",
       "3           3   4         FRA  60.0               1095               93   \n",
       "4           4   5         FRA  51.0               1095                0   \n",
       "\n",
       "   LodgingRevenue  OtherRevenue  BookingsCanceled  BookingsNoShowed  ...  \\\n",
       "0           371.0         105.3                 1                 0  ...   \n",
       "1           280.0          53.0                 0                 0  ...   \n",
       "2             0.0           0.0                 0                 0  ...   \n",
       "3           240.0          60.0                 0                 0  ...   \n",
       "4             0.0           0.0                 0                 0  ...   \n",
       "\n",
       "   SRMediumFloor  SRBathtub  SRShower  SRCrib  SRKingSizeBed SRTwinBed  \\\n",
       "0              0          0         0       0              0         0   \n",
       "1              0          0         0       0              0         0   \n",
       "2              0          0         0       0              0         0   \n",
       "3              0          0         0       0              0         0   \n",
       "4              0          0         0       0              0         0   \n",
       "\n",
       "  SRNearElevator  SRAwayFromElevator  SRNoAlcoholInMiniBar  SRQuietRoom  \n",
       "0              0                   0                     0            0  \n",
       "1              0                   0                     0            0  \n",
       "2              0                   0                     0            0  \n",
       "3              0                   0                     0            0  \n",
       "4              0                   0                     0            0  \n",
       "\n",
       "[5 rows x 30 columns]"
      ]
     },
     "execution_count": 14,
     "metadata": {},
     "output_type": "execute_result"
    }
   ],
   "source": [
    "df_train.head()"
   ]
  },
  {
   "cell_type": "code",
   "execution_count": 15,
   "id": "d55c95fa",
   "metadata": {},
   "outputs": [],
   "source": [
    "df_train.to_csv('train_data')"
   ]
  },
  {
   "cell_type": "code",
   "execution_count": 16,
   "id": "5c557b4b",
   "metadata": {},
   "outputs": [],
   "source": [
    "df_train.drop(['Unnamed: 0','ID','Nationality','BookingsCanceled','BookingsNoShowed','DaysSinceFirstStay','DaysSinceLastStay'], axis = 1, inplace=True)"
   ]
  },
  {
   "cell_type": "code",
   "execution_count": 17,
   "id": "647bab17",
   "metadata": {},
   "outputs": [
    {
     "name": "stdout",
     "output_type": "stream",
     "text": [
      "<class 'pandas.core.frame.DataFrame'>\n",
      "RangeIndex: 82580 entries, 0 to 82579\n",
      "Data columns (total 23 columns):\n",
      " #   Column                Non-Null Count  Dtype  \n",
      "---  ------                --------------  -----  \n",
      " 0   Age                   82580 non-null  float64\n",
      " 1   DaysSinceCreation     82580 non-null  int64  \n",
      " 2   AverageLeadTime       82580 non-null  int64  \n",
      " 3   LodgingRevenue        82580 non-null  float64\n",
      " 4   OtherRevenue          82580 non-null  float64\n",
      " 5   BookingsCheckedIn     82580 non-null  int64  \n",
      " 6   PersonsNights         82580 non-null  int64  \n",
      " 7   RoomNights            82580 non-null  int64  \n",
      " 8   DistributionChannel   82580 non-null  object \n",
      " 9   MarketSegment         82580 non-null  object \n",
      " 10  SRHighFloor           82580 non-null  int64  \n",
      " 11  SRLowFloor            82580 non-null  int64  \n",
      " 12  SRAccessibleRoom      82580 non-null  int64  \n",
      " 13  SRMediumFloor         82580 non-null  int64  \n",
      " 14  SRBathtub             82580 non-null  int64  \n",
      " 15  SRShower              82580 non-null  int64  \n",
      " 16  SRCrib                82580 non-null  int64  \n",
      " 17  SRKingSizeBed         82580 non-null  int64  \n",
      " 18  SRTwinBed             82580 non-null  int64  \n",
      " 19  SRNearElevator        82580 non-null  int64  \n",
      " 20  SRAwayFromElevator    82580 non-null  int64  \n",
      " 21  SRNoAlcoholInMiniBar  82580 non-null  int64  \n",
      " 22  SRQuietRoom           82580 non-null  int64  \n",
      "dtypes: float64(3), int64(18), object(2)\n",
      "memory usage: 14.5+ MB\n"
     ]
    }
   ],
   "source": [
    "df_train.info()"
   ]
  },
  {
   "cell_type": "code",
   "execution_count": 18,
   "id": "e4a0de65",
   "metadata": {},
   "outputs": [
    {
     "data": {
      "text/plain": [
       "array(['Corporate', 'Travel Agent/Operator', 'Direct',\n",
       "       'Electronic Distribution'], dtype=object)"
      ]
     },
     "execution_count": 18,
     "metadata": {},
     "output_type": "execute_result"
    }
   ],
   "source": [
    "df_train.DistributionChannel.unique()"
   ]
  },
  {
   "cell_type": "code",
   "execution_count": 19,
   "id": "208b9fcf",
   "metadata": {},
   "outputs": [
    {
     "data": {
      "text/plain": [
       "array(['Corporate', 'Travel Agent/Operator', 'Other', 'Direct',\n",
       "       'Complementary', 'Groups', 'Aviation'], dtype=object)"
      ]
     },
     "execution_count": 19,
     "metadata": {},
     "output_type": "execute_result"
    }
   ],
   "source": [
    "df_train.MarketSegment.unique()"
   ]
  },
  {
   "cell_type": "code",
   "execution_count": 20,
   "id": "847e4a9e",
   "metadata": {},
   "outputs": [],
   "source": [
    "cat_cols = ['DistributionChannel', 'MarketSegment']"
   ]
  },
  {
   "cell_type": "code",
   "execution_count": 21,
   "id": "afea41bc",
   "metadata": {},
   "outputs": [],
   "source": [
    "df_train[cat_cols] = df_train[cat_cols].apply(LabelEncoder().fit_transform)\n"
   ]
  },
  {
   "cell_type": "code",
   "execution_count": 22,
   "id": "ba3f7656",
   "metadata": {},
   "outputs": [
    {
     "data": {
      "text/plain": [
       "array([0, 3, 1, 2])"
      ]
     },
     "execution_count": 22,
     "metadata": {},
     "output_type": "execute_result"
    }
   ],
   "source": [
    "df_train.DistributionChannel.unique()"
   ]
  },
  {
   "cell_type": "code",
   "execution_count": 23,
   "id": "084651fa",
   "metadata": {},
   "outputs": [],
   "source": [
    "x = df_train.drop(['BookingsCheckedIn'], axis=1)\n",
    "y = df_train.BookingsCheckedIn"
   ]
  },
  {
   "cell_type": "markdown",
   "id": "4fa082b4",
   "metadata": {},
   "source": [
    "# MODELLING"
   ]
  },
  {
   "cell_type": "markdown",
   "id": "fb48ebaa",
   "metadata": {},
   "source": [
    "# ANN "
   ]
  },
  {
   "cell_type": "code",
   "execution_count": 24,
   "id": "b821d11c",
   "metadata": {},
   "outputs": [
    {
     "data": {
      "text/plain": [
       "1    63186\n",
       "0    19394\n",
       "Name: BookingsCheckedIn, dtype: int64"
      ]
     },
     "execution_count": 24,
     "metadata": {},
     "output_type": "execute_result"
    }
   ],
   "source": [
    "df_train.BookingsCheckedIn.value_counts()"
   ]
  },
  {
   "cell_type": "markdown",
   "id": "f745ea55",
   "metadata": {},
   "source": [
    "class is imbalanced we have to balance the target variable by using smote technique"
   ]
  },
  {
   "cell_type": "code",
   "execution_count": 25,
   "id": "b42c598c",
   "metadata": {},
   "outputs": [],
   "source": [
    "from imblearn.over_sampling import SMOTE\n",
    "from sklearn.model_selection import train_test_split\n",
    "import numpy as np\n",
    "from sklearn.metrics import *"
   ]
  },
  {
   "cell_type": "code",
   "execution_count": 26,
   "id": "24539ad4",
   "metadata": {},
   "outputs": [],
   "source": [
    "x_smote, y_smote = SMOTE().fit_resample(x, y)\n"
   ]
  },
  {
   "cell_type": "code",
   "execution_count": 27,
   "id": "7f669cdf",
   "metadata": {},
   "outputs": [
    {
     "data": {
      "text/plain": [
       "1    63186\n",
       "0    63186\n",
       "Name: BookingsCheckedIn, dtype: int64"
      ]
     },
     "execution_count": 27,
     "metadata": {},
     "output_type": "execute_result"
    }
   ],
   "source": [
    "x_smote.value_counts()\n",
    "y_smote.value_counts()"
   ]
  },
  {
   "cell_type": "code",
   "execution_count": 28,
   "id": "5ad7c066",
   "metadata": {},
   "outputs": [],
   "source": [
    "x_train, x_test, y_train, y_test = train_test_split(x_smote, y_smote, test_size=0.3, random_state=0)"
   ]
  },
  {
   "cell_type": "code",
   "execution_count": 29,
   "id": "8086fae4",
   "metadata": {},
   "outputs": [],
   "source": [
    "x_train = np.array(x_train)\n",
    "x_test = np.array(x_test)\n",
    "y_train = np.array(y_train)\n",
    "y_test = np.array(y_test)"
   ]
  },
  {
   "cell_type": "code",
   "execution_count": 30,
   "id": "b847a302",
   "metadata": {},
   "outputs": [],
   "source": [
    "from keras.models import Sequential\n",
    "from keras.layers import Dense, Dropout"
   ]
  },
  {
   "cell_type": "code",
   "execution_count": 31,
   "id": "75603686",
   "metadata": {},
   "outputs": [],
   "source": [
    "model = Sequential([\n",
    "    Dense(units=20, input_dim = x_train.shape[1], activation='relu'),\n",
    "    Dense(units=24,activation='relu'),\n",
    "    Dropout(0.7),\n",
    "    Dense(units=20,activation='relu'),\n",
    "    Dense(units=24,activation='relu'),\n",
    "    Dense(1, activation='sigmoid')\n",
    "])"
   ]
  },
  {
   "cell_type": "code",
   "execution_count": 32,
   "id": "1bb3cf83",
   "metadata": {},
   "outputs": [
    {
     "name": "stdout",
     "output_type": "stream",
     "text": [
      "Model: \"sequential\"\n",
      "_________________________________________________________________\n",
      " Layer (type)                Output Shape              Param #   \n",
      "=================================================================\n",
      " dense (Dense)               (None, 20)                460       \n",
      "                                                                 \n",
      " dense_1 (Dense)             (None, 24)                504       \n",
      "                                                                 \n",
      " dropout (Dropout)           (None, 24)                0         \n",
      "                                                                 \n",
      " dense_2 (Dense)             (None, 20)                500       \n",
      "                                                                 \n",
      " dense_3 (Dense)             (None, 24)                504       \n",
      "                                                                 \n",
      " dense_4 (Dense)             (None, 1)                 25        \n",
      "                                                                 \n",
      "=================================================================\n",
      "Total params: 1,993\n",
      "Trainable params: 1,993\n",
      "Non-trainable params: 0\n",
      "_________________________________________________________________\n"
     ]
    }
   ],
   "source": [
    "model.summary()\n"
   ]
  },
  {
   "cell_type": "code",
   "execution_count": 33,
   "id": "644f3f48",
   "metadata": {},
   "outputs": [
    {
     "name": "stdout",
     "output_type": "stream",
     "text": [
      "Epoch 1/5\n",
      "2949/2949 [==============================] - 22s 5ms/step - loss: 0.1612 - accuracy: 0.9578\n",
      "Epoch 2/5\n",
      "2949/2949 [==============================] - 15s 5ms/step - loss: 0.0370 - accuracy: 0.9906\n",
      "Epoch 3/5\n",
      "2949/2949 [==============================] - 12s 4ms/step - loss: 0.0309 - accuracy: 0.9909\n",
      "Epoch 4/5\n",
      "2949/2949 [==============================] - 12s 4ms/step - loss: 0.0289 - accuracy: 0.9917\n",
      "Epoch 5/5\n",
      "2949/2949 [==============================] - 12s 4ms/step - loss: 0.0241 - accuracy: 0.9931\n"
     ]
    },
    {
     "data": {
      "text/plain": [
       "<keras.callbacks.History at 0x1cba2651b50>"
      ]
     },
     "execution_count": 33,
     "metadata": {},
     "output_type": "execute_result"
    }
   ],
   "source": [
    "model.compile(optimizer='adam', loss='binary_crossentropy', metrics=['accuracy'])\n",
    "model.fit(x_train, y_train, batch_size=30, epochs=5)\n"
   ]
  },
  {
   "cell_type": "code",
   "execution_count": 34,
   "id": "c6bc6f5a",
   "metadata": {},
   "outputs": [],
   "source": [
    "model.save('booking_hotel_chekedin.h5')"
   ]
  },
  {
   "cell_type": "markdown",
   "id": "b876c162",
   "metadata": {},
   "source": [
    "PREDICTION ON TEST DATASET"
   ]
  },
  {
   "cell_type": "code",
   "execution_count": 35,
   "id": "0e11e4dc",
   "metadata": {},
   "outputs": [],
   "source": [
    "df_test = pd.read_csv('test_data_evaluation_part2.csv')"
   ]
  },
  {
   "cell_type": "code",
   "execution_count": 36,
   "id": "91d9c99b",
   "metadata": {},
   "outputs": [
    {
     "data": {
      "text/html": [
       "<div>\n",
       "<style scoped>\n",
       "    .dataframe tbody tr th:only-of-type {\n",
       "        vertical-align: middle;\n",
       "    }\n",
       "\n",
       "    .dataframe tbody tr th {\n",
       "        vertical-align: top;\n",
       "    }\n",
       "\n",
       "    .dataframe thead th {\n",
       "        text-align: right;\n",
       "    }\n",
       "</style>\n",
       "<table border=\"1\" class=\"dataframe\">\n",
       "  <thead>\n",
       "    <tr style=\"text-align: right;\">\n",
       "      <th></th>\n",
       "      <th>Unnamed: 0</th>\n",
       "      <th>ID</th>\n",
       "      <th>Nationality</th>\n",
       "      <th>Age</th>\n",
       "      <th>DaysSinceCreation</th>\n",
       "      <th>AverageLeadTime</th>\n",
       "      <th>LodgingRevenue</th>\n",
       "      <th>OtherRevenue</th>\n",
       "      <th>BookingsCanceled</th>\n",
       "      <th>BookingsNoShowed</th>\n",
       "      <th>...</th>\n",
       "      <th>SRMediumFloor</th>\n",
       "      <th>SRBathtub</th>\n",
       "      <th>SRShower</th>\n",
       "      <th>SRCrib</th>\n",
       "      <th>SRKingSizeBed</th>\n",
       "      <th>SRTwinBed</th>\n",
       "      <th>SRNearElevator</th>\n",
       "      <th>SRAwayFromElevator</th>\n",
       "      <th>SRNoAlcoholInMiniBar</th>\n",
       "      <th>SRQuietRoom</th>\n",
       "    </tr>\n",
       "  </thead>\n",
       "  <tbody>\n",
       "    <tr>\n",
       "      <th>0</th>\n",
       "      <td>82590</td>\n",
       "      <td>82591</td>\n",
       "      <td>SGP</td>\n",
       "      <td>47.0</td>\n",
       "      <td>11</td>\n",
       "      <td>0</td>\n",
       "      <td>0.00</td>\n",
       "      <td>0.0</td>\n",
       "      <td>0</td>\n",
       "      <td>0</td>\n",
       "      <td>...</td>\n",
       "      <td>0</td>\n",
       "      <td>0</td>\n",
       "      <td>0</td>\n",
       "      <td>0</td>\n",
       "      <td>0</td>\n",
       "      <td>0</td>\n",
       "      <td>0</td>\n",
       "      <td>0</td>\n",
       "      <td>0</td>\n",
       "      <td>0</td>\n",
       "    </tr>\n",
       "    <tr>\n",
       "      <th>1</th>\n",
       "      <td>82591</td>\n",
       "      <td>82592</td>\n",
       "      <td>SGP</td>\n",
       "      <td>16.0</td>\n",
       "      <td>11</td>\n",
       "      <td>130</td>\n",
       "      <td>483.48</td>\n",
       "      <td>155.1</td>\n",
       "      <td>0</td>\n",
       "      <td>0</td>\n",
       "      <td>...</td>\n",
       "      <td>0</td>\n",
       "      <td>0</td>\n",
       "      <td>0</td>\n",
       "      <td>0</td>\n",
       "      <td>0</td>\n",
       "      <td>0</td>\n",
       "      <td>0</td>\n",
       "      <td>0</td>\n",
       "      <td>0</td>\n",
       "      <td>0</td>\n",
       "    </tr>\n",
       "  </tbody>\n",
       "</table>\n",
       "<p>2 rows × 30 columns</p>\n",
       "</div>"
      ],
      "text/plain": [
       "   Unnamed: 0     ID Nationality   Age  DaysSinceCreation  AverageLeadTime  \\\n",
       "0       82590  82591         SGP  47.0                 11                0   \n",
       "1       82591  82592         SGP  16.0                 11              130   \n",
       "\n",
       "   LodgingRevenue  OtherRevenue  BookingsCanceled  BookingsNoShowed  ...  \\\n",
       "0            0.00           0.0                 0                 0  ...   \n",
       "1          483.48         155.1                 0                 0  ...   \n",
       "\n",
       "   SRMediumFloor  SRBathtub  SRShower  SRCrib  SRKingSizeBed SRTwinBed  \\\n",
       "0              0          0         0       0              0         0   \n",
       "1              0          0         0       0              0         0   \n",
       "\n",
       "  SRNearElevator  SRAwayFromElevator  SRNoAlcoholInMiniBar  SRQuietRoom  \n",
       "0              0                   0                     0            0  \n",
       "1              0                   0                     0            0  \n",
       "\n",
       "[2 rows x 30 columns]"
      ]
     },
     "execution_count": 36,
     "metadata": {},
     "output_type": "execute_result"
    }
   ],
   "source": [
    "df_test.head(2)"
   ]
  },
  {
   "cell_type": "code",
   "execution_count": 37,
   "id": "55f8cd34",
   "metadata": {},
   "outputs": [
    {
     "data": {
      "text/plain": [
       "array([0, 1, 2], dtype=int64)"
      ]
     },
     "execution_count": 37,
     "metadata": {},
     "output_type": "execute_result"
    }
   ],
   "source": [
    "df_test.BookingsCheckedIn.unique()"
   ]
  },
  {
   "cell_type": "code",
   "execution_count": 38,
   "id": "5361e67b",
   "metadata": {},
   "outputs": [],
   "source": [
    "df_test['BookingsCheckedIn']=df_test.BookingsCheckedIn.replace(to_replace=[2],\n",
    "           value= 1)"
   ]
  },
  {
   "cell_type": "code",
   "execution_count": 39,
   "id": "139b4013",
   "metadata": {},
   "outputs": [
    {
     "data": {
      "text/html": [
       "<div>\n",
       "<style scoped>\n",
       "    .dataframe tbody tr th:only-of-type {\n",
       "        vertical-align: middle;\n",
       "    }\n",
       "\n",
       "    .dataframe tbody tr th {\n",
       "        vertical-align: top;\n",
       "    }\n",
       "\n",
       "    .dataframe thead th {\n",
       "        text-align: right;\n",
       "    }\n",
       "</style>\n",
       "<table border=\"1\" class=\"dataframe\">\n",
       "  <thead>\n",
       "    <tr style=\"text-align: right;\">\n",
       "      <th></th>\n",
       "      <th>Unnamed: 0</th>\n",
       "      <th>ID</th>\n",
       "      <th>Nationality</th>\n",
       "      <th>Age</th>\n",
       "      <th>DaysSinceCreation</th>\n",
       "      <th>AverageLeadTime</th>\n",
       "      <th>LodgingRevenue</th>\n",
       "      <th>OtherRevenue</th>\n",
       "      <th>BookingsCanceled</th>\n",
       "      <th>BookingsNoShowed</th>\n",
       "      <th>...</th>\n",
       "      <th>SRMediumFloor</th>\n",
       "      <th>SRBathtub</th>\n",
       "      <th>SRShower</th>\n",
       "      <th>SRCrib</th>\n",
       "      <th>SRKingSizeBed</th>\n",
       "      <th>SRTwinBed</th>\n",
       "      <th>SRNearElevator</th>\n",
       "      <th>SRAwayFromElevator</th>\n",
       "      <th>SRNoAlcoholInMiniBar</th>\n",
       "      <th>SRQuietRoom</th>\n",
       "    </tr>\n",
       "  </thead>\n",
       "  <tbody>\n",
       "    <tr>\n",
       "      <th>0</th>\n",
       "      <td>82590</td>\n",
       "      <td>82591</td>\n",
       "      <td>SGP</td>\n",
       "      <td>47.0</td>\n",
       "      <td>11</td>\n",
       "      <td>0</td>\n",
       "      <td>0.00</td>\n",
       "      <td>0.0</td>\n",
       "      <td>0</td>\n",
       "      <td>0</td>\n",
       "      <td>...</td>\n",
       "      <td>0</td>\n",
       "      <td>0</td>\n",
       "      <td>0</td>\n",
       "      <td>0</td>\n",
       "      <td>0</td>\n",
       "      <td>0</td>\n",
       "      <td>0</td>\n",
       "      <td>0</td>\n",
       "      <td>0</td>\n",
       "      <td>0</td>\n",
       "    </tr>\n",
       "    <tr>\n",
       "      <th>1</th>\n",
       "      <td>82591</td>\n",
       "      <td>82592</td>\n",
       "      <td>SGP</td>\n",
       "      <td>16.0</td>\n",
       "      <td>11</td>\n",
       "      <td>130</td>\n",
       "      <td>483.48</td>\n",
       "      <td>155.1</td>\n",
       "      <td>0</td>\n",
       "      <td>0</td>\n",
       "      <td>...</td>\n",
       "      <td>0</td>\n",
       "      <td>0</td>\n",
       "      <td>0</td>\n",
       "      <td>0</td>\n",
       "      <td>0</td>\n",
       "      <td>0</td>\n",
       "      <td>0</td>\n",
       "      <td>0</td>\n",
       "      <td>0</td>\n",
       "      <td>0</td>\n",
       "    </tr>\n",
       "    <tr>\n",
       "      <th>2</th>\n",
       "      <td>82592</td>\n",
       "      <td>82593</td>\n",
       "      <td>SGP</td>\n",
       "      <td>15.0</td>\n",
       "      <td>11</td>\n",
       "      <td>0</td>\n",
       "      <td>0.00</td>\n",
       "      <td>0.0</td>\n",
       "      <td>0</td>\n",
       "      <td>0</td>\n",
       "      <td>...</td>\n",
       "      <td>0</td>\n",
       "      <td>0</td>\n",
       "      <td>0</td>\n",
       "      <td>0</td>\n",
       "      <td>0</td>\n",
       "      <td>0</td>\n",
       "      <td>0</td>\n",
       "      <td>0</td>\n",
       "      <td>0</td>\n",
       "      <td>0</td>\n",
       "    </tr>\n",
       "    <tr>\n",
       "      <th>3</th>\n",
       "      <td>82593</td>\n",
       "      <td>82594</td>\n",
       "      <td>SGP</td>\n",
       "      <td>12.0</td>\n",
       "      <td>11</td>\n",
       "      <td>0</td>\n",
       "      <td>0.00</td>\n",
       "      <td>0.0</td>\n",
       "      <td>0</td>\n",
       "      <td>0</td>\n",
       "      <td>...</td>\n",
       "      <td>0</td>\n",
       "      <td>0</td>\n",
       "      <td>0</td>\n",
       "      <td>0</td>\n",
       "      <td>0</td>\n",
       "      <td>0</td>\n",
       "      <td>0</td>\n",
       "      <td>0</td>\n",
       "      <td>0</td>\n",
       "      <td>0</td>\n",
       "    </tr>\n",
       "    <tr>\n",
       "      <th>4</th>\n",
       "      <td>82594</td>\n",
       "      <td>82595</td>\n",
       "      <td>PRT</td>\n",
       "      <td>NaN</td>\n",
       "      <td>11</td>\n",
       "      <td>0</td>\n",
       "      <td>0.00</td>\n",
       "      <td>0.0</td>\n",
       "      <td>0</td>\n",
       "      <td>0</td>\n",
       "      <td>...</td>\n",
       "      <td>0</td>\n",
       "      <td>0</td>\n",
       "      <td>0</td>\n",
       "      <td>0</td>\n",
       "      <td>1</td>\n",
       "      <td>0</td>\n",
       "      <td>0</td>\n",
       "      <td>0</td>\n",
       "      <td>0</td>\n",
       "      <td>0</td>\n",
       "    </tr>\n",
       "  </tbody>\n",
       "</table>\n",
       "<p>5 rows × 30 columns</p>\n",
       "</div>"
      ],
      "text/plain": [
       "   Unnamed: 0     ID Nationality   Age  DaysSinceCreation  AverageLeadTime  \\\n",
       "0       82590  82591         SGP  47.0                 11                0   \n",
       "1       82591  82592         SGP  16.0                 11              130   \n",
       "2       82592  82593         SGP  15.0                 11                0   \n",
       "3       82593  82594         SGP  12.0                 11                0   \n",
       "4       82594  82595         PRT   NaN                 11                0   \n",
       "\n",
       "   LodgingRevenue  OtherRevenue  BookingsCanceled  BookingsNoShowed  ...  \\\n",
       "0            0.00           0.0                 0                 0  ...   \n",
       "1          483.48         155.1                 0                 0  ...   \n",
       "2            0.00           0.0                 0                 0  ...   \n",
       "3            0.00           0.0                 0                 0  ...   \n",
       "4            0.00           0.0                 0                 0  ...   \n",
       "\n",
       "   SRMediumFloor  SRBathtub  SRShower  SRCrib  SRKingSizeBed SRTwinBed  \\\n",
       "0              0          0         0       0              0         0   \n",
       "1              0          0         0       0              0         0   \n",
       "2              0          0         0       0              0         0   \n",
       "3              0          0         0       0              0         0   \n",
       "4              0          0         0       0              1         0   \n",
       "\n",
       "  SRNearElevator  SRAwayFromElevator  SRNoAlcoholInMiniBar  SRQuietRoom  \n",
       "0              0                   0                     0            0  \n",
       "1              0                   0                     0            0  \n",
       "2              0                   0                     0            0  \n",
       "3              0                   0                     0            0  \n",
       "4              0                   0                     0            0  \n",
       "\n",
       "[5 rows x 30 columns]"
      ]
     },
     "execution_count": 39,
     "metadata": {},
     "output_type": "execute_result"
    }
   ],
   "source": [
    "df_test.head()"
   ]
  },
  {
   "cell_type": "code",
   "execution_count": 40,
   "id": "a4093083",
   "metadata": {},
   "outputs": [],
   "source": [
    "df_test.to_csv('test_data')"
   ]
  },
  {
   "cell_type": "code",
   "execution_count": 41,
   "id": "52f3c7ca",
   "metadata": {},
   "outputs": [
    {
     "data": {
      "text/plain": [
       "array([0, 1], dtype=int64)"
      ]
     },
     "execution_count": 41,
     "metadata": {},
     "output_type": "execute_result"
    }
   ],
   "source": [
    "df_test.BookingsCheckedIn.unique()"
   ]
  },
  {
   "cell_type": "code",
   "execution_count": 42,
   "id": "9a696596",
   "metadata": {},
   "outputs": [],
   "source": [
    "y_test = df_test.BookingsCheckedIn"
   ]
  },
  {
   "cell_type": "code",
   "execution_count": 43,
   "id": "f4633096",
   "metadata": {},
   "outputs": [],
   "source": [
    "df_test.drop(['Unnamed: 0','ID','Nationality', 'BookingsCheckedIn','BookingsCanceled','BookingsNoShowed','DaysSinceFirstStay','DaysSinceLastStay'], axis = 1, inplace=True)"
   ]
  },
  {
   "cell_type": "code",
   "execution_count": 44,
   "id": "b1054f5a",
   "metadata": {},
   "outputs": [],
   "source": [
    "df_test['Age'] = df_test['Age'].fillna(df_test.Age.median())"
   ]
  },
  {
   "cell_type": "code",
   "execution_count": 45,
   "id": "327614a9",
   "metadata": {},
   "outputs": [],
   "source": [
    "cat_cols = ['DistributionChannel', 'MarketSegment']\n",
    "df_test[cat_cols] = df_test[cat_cols].apply(LabelEncoder().fit_transform)\n"
   ]
  },
  {
   "cell_type": "code",
   "execution_count": 46,
   "id": "e9d4182d",
   "metadata": {},
   "outputs": [
    {
     "data": {
      "text/plain": [
       "Index(['Age', 'DaysSinceCreation', 'AverageLeadTime', 'LodgingRevenue',\n",
       "       'OtherRevenue', 'PersonsNights', 'RoomNights', 'DistributionChannel',\n",
       "       'MarketSegment', 'SRHighFloor', 'SRLowFloor', 'SRAccessibleRoom',\n",
       "       'SRMediumFloor', 'SRBathtub', 'SRShower', 'SRCrib', 'SRKingSizeBed',\n",
       "       'SRTwinBed', 'SRNearElevator', 'SRAwayFromElevator',\n",
       "       'SRNoAlcoholInMiniBar', 'SRQuietRoom'],\n",
       "      dtype='object')"
      ]
     },
     "execution_count": 46,
     "metadata": {},
     "output_type": "execute_result"
    }
   ],
   "source": [
    "df_test.columns"
   ]
  },
  {
   "cell_type": "code",
   "execution_count": 47,
   "id": "a7ae0779",
   "metadata": {},
   "outputs": [],
   "source": [
    "df_test = np.array(df_test)"
   ]
  },
  {
   "cell_type": "markdown",
   "id": "f885db90",
   "metadata": {},
   "source": [
    "predictions on test data"
   ]
  },
  {
   "cell_type": "code",
   "execution_count": 48,
   "id": "a7e35cb0",
   "metadata": {},
   "outputs": [
    {
     "name": "stdout",
     "output_type": "stream",
     "text": [
      "32/32 [==============================] - 0s 2ms/step\n"
     ]
    },
    {
     "data": {
      "text/plain": [
       "array([[1.80398172e-06],\n",
       "       [1.00000000e+00],\n",
       "       [4.99915404e-06],\n",
       "       [5.93968343e-06],\n",
       "       [1.77278139e-06],\n",
       "       [1.00000000e+00],\n",
       "       [1.00000000e+00],\n",
       "       [1.00000000e+00],\n",
       "       [1.00000000e+00],\n",
       "       [1.98543944e-06],\n",
       "       [1.98543944e-06],\n",
       "       [1.35516484e-06],\n",
       "       [1.00000000e+00],\n",
       "       [5.00524266e-07],\n",
       "       [1.00000000e+00],\n",
       "       [1.28919908e-06],\n",
       "       [5.06478573e-05],\n",
       "       [1.00000000e+00],\n",
       "       [1.00000000e+00],\n",
       "       [1.00000000e+00],\n",
       "       [2.60365664e-06],\n",
       "       [1.00000000e+00],\n",
       "       [1.00000000e+00],\n",
       "       [1.00000000e+00],\n",
       "       [1.34053710e-06],\n",
       "       [1.00000000e+00],\n",
       "       [2.04502498e-06],\n",
       "       [1.00000000e+00],\n",
       "       [2.30062074e-06],\n",
       "       [1.00000000e+00],\n",
       "       [1.00339787e-06],\n",
       "       [1.00000000e+00],\n",
       "       [1.00000000e+00],\n",
       "       [3.65836058e-07],\n",
       "       [1.00000000e+00],\n",
       "       [1.00000000e+00],\n",
       "       [9.99991417e-01],\n",
       "       [1.60128600e-03],\n",
       "       [3.31484969e-03],\n",
       "       [1.80061966e-06],\n",
       "       [1.00000000e+00],\n",
       "       [1.00000000e+00],\n",
       "       [1.00000000e+00],\n",
       "       [1.00000000e+00],\n",
       "       [1.00000000e+00],\n",
       "       [1.00000000e+00],\n",
       "       [1.00000000e+00],\n",
       "       [5.00168317e-05],\n",
       "       [1.00000000e+00],\n",
       "       [1.00000000e+00],\n",
       "       [1.00000000e+00],\n",
       "       [1.00000000e+00],\n",
       "       [1.00000000e+00],\n",
       "       [1.00000000e+00],\n",
       "       [3.33505777e-05],\n",
       "       [1.00000000e+00],\n",
       "       [4.29880456e-05],\n",
       "       [1.00000000e+00],\n",
       "       [1.67585767e-06],\n",
       "       [4.91747460e-06],\n",
       "       [1.00000000e+00],\n",
       "       [5.07796904e-05],\n",
       "       [1.00000000e+00],\n",
       "       [1.00000000e+00],\n",
       "       [1.78047026e-06],\n",
       "       [1.00000000e+00],\n",
       "       [4.07382595e-06],\n",
       "       [1.00000000e+00],\n",
       "       [4.50910120e-05],\n",
       "       [3.01638603e-01],\n",
       "       [1.00000000e+00],\n",
       "       [1.00000000e+00],\n",
       "       [1.00000000e+00],\n",
       "       [1.00000000e+00],\n",
       "       [1.00000000e+00],\n",
       "       [2.53083431e-06],\n",
       "       [1.01624355e-05],\n",
       "       [1.00000000e+00],\n",
       "       [7.97447647e-05],\n",
       "       [5.90221789e-05],\n",
       "       [1.00000000e+00],\n",
       "       [1.00000000e+00],\n",
       "       [3.51231165e-06],\n",
       "       [3.51231165e-06],\n",
       "       [1.00000000e+00],\n",
       "       [1.00000000e+00],\n",
       "       [9.11678853e-07],\n",
       "       [1.00000000e+00],\n",
       "       [9.31680120e-07],\n",
       "       [1.00000000e+00],\n",
       "       [1.00000000e+00],\n",
       "       [1.00000000e+00],\n",
       "       [1.00000000e+00],\n",
       "       [5.60990360e-04],\n",
       "       [1.00000000e+00],\n",
       "       [1.00000000e+00],\n",
       "       [5.94296143e-04],\n",
       "       [1.00000000e+00],\n",
       "       [6.18508493e-04],\n",
       "       [1.00000000e+00],\n",
       "       [6.75594420e-05],\n",
       "       [1.00000000e+00],\n",
       "       [1.00000000e+00],\n",
       "       [1.32713365e-06],\n",
       "       [1.00000000e+00],\n",
       "       [1.01391527e-06],\n",
       "       [1.00000000e+00],\n",
       "       [1.00000000e+00],\n",
       "       [1.00000000e+00],\n",
       "       [3.43533952e-06],\n",
       "       [1.00000000e+00],\n",
       "       [3.76517369e-06],\n",
       "       [1.00000000e+00],\n",
       "       [1.00000000e+00],\n",
       "       [1.00000000e+00],\n",
       "       [1.00000000e+00],\n",
       "       [8.25704265e-05],\n",
       "       [1.00000000e+00],\n",
       "       [4.41525117e-06],\n",
       "       [1.00000000e+00],\n",
       "       [1.14445884e-05],\n",
       "       [2.10312419e-06],\n",
       "       [1.00000000e+00],\n",
       "       [3.95079752e-07],\n",
       "       [3.42751832e-06],\n",
       "       [1.00000000e+00],\n",
       "       [8.62413117e-07],\n",
       "       [1.00000000e+00],\n",
       "       [3.70702510e-05],\n",
       "       [1.00000000e+00],\n",
       "       [9.67841174e-07],\n",
       "       [1.00000000e+00],\n",
       "       [1.12743064e-05],\n",
       "       [2.31414492e-06],\n",
       "       [1.00000000e+00],\n",
       "       [2.07698554e-06],\n",
       "       [6.51693972e-06],\n",
       "       [8.20930109e-06],\n",
       "       [1.00000000e+00],\n",
       "       [2.52808672e-06],\n",
       "       [1.00000000e+00],\n",
       "       [1.71738373e-06],\n",
       "       [3.94513063e-06],\n",
       "       [1.00000000e+00],\n",
       "       [9.44734268e-07],\n",
       "       [1.00000000e+00],\n",
       "       [5.30495134e-04],\n",
       "       [6.04453846e-04],\n",
       "       [6.17709418e-04],\n",
       "       [5.21321708e-05],\n",
       "       [1.24502607e-04],\n",
       "       [8.52574303e-05],\n",
       "       [1.00000000e+00],\n",
       "       [2.07698554e-06],\n",
       "       [1.00000000e+00],\n",
       "       [2.05646006e-06],\n",
       "       [1.00000000e+00],\n",
       "       [2.05646006e-06],\n",
       "       [1.52769871e-06],\n",
       "       [1.00000000e+00],\n",
       "       [2.76870628e-06],\n",
       "       [1.79432740e-03],\n",
       "       [9.99755740e-01],\n",
       "       [2.68417131e-03],\n",
       "       [1.33728189e-03],\n",
       "       [1.00000000e+00],\n",
       "       [9.93654430e-06],\n",
       "       [9.99992549e-01],\n",
       "       [1.90581358e-03],\n",
       "       [1.00000000e+00],\n",
       "       [8.84590117e-05],\n",
       "       [1.00000000e+00],\n",
       "       [1.39817351e-03],\n",
       "       [1.00000000e+00],\n",
       "       [1.00000000e+00],\n",
       "       [1.94460532e-04],\n",
       "       [4.73415203e-05],\n",
       "       [9.99911845e-01],\n",
       "       [1.00000000e+00],\n",
       "       [1.94280165e-06],\n",
       "       [1.00000000e+00],\n",
       "       [1.00000000e+00],\n",
       "       [1.63843595e-06],\n",
       "       [1.00000000e+00],\n",
       "       [2.55859459e-06],\n",
       "       [1.00000000e+00],\n",
       "       [3.02781768e-06],\n",
       "       [1.00000000e+00],\n",
       "       [1.00000000e+00],\n",
       "       [1.00000000e+00],\n",
       "       [2.07698349e-06],\n",
       "       [2.07698349e-06],\n",
       "       [2.07698554e-06],\n",
       "       [1.01193891e-05],\n",
       "       [2.33472929e-06],\n",
       "       [1.00000000e+00],\n",
       "       [1.00000000e+00],\n",
       "       [2.05646006e-06],\n",
       "       [7.93766685e-06],\n",
       "       [1.00000000e+00],\n",
       "       [1.00000000e+00],\n",
       "       [3.02781768e-06],\n",
       "       [1.00000000e+00],\n",
       "       [6.82762839e-05],\n",
       "       [1.00000000e+00],\n",
       "       [2.67104201e-06],\n",
       "       [1.00000000e+00],\n",
       "       [2.09260679e-06],\n",
       "       [1.00000000e+00],\n",
       "       [1.08731399e-06],\n",
       "       [1.00000000e+00],\n",
       "       [1.00000000e+00],\n",
       "       [4.01576472e-06],\n",
       "       [2.89955415e-06],\n",
       "       [1.00000000e+00],\n",
       "       [1.90382934e-06],\n",
       "       [1.00000000e+00],\n",
       "       [1.00000000e+00],\n",
       "       [2.12235614e-06],\n",
       "       [1.25711103e-05],\n",
       "       [1.00000000e+00],\n",
       "       [2.09260679e-06],\n",
       "       [3.10305700e-06],\n",
       "       [1.00000000e+00],\n",
       "       [4.40133135e-06],\n",
       "       [1.00000000e+00],\n",
       "       [1.00000000e+00],\n",
       "       [1.96233363e-04],\n",
       "       [1.11247435e-04],\n",
       "       [9.80989353e-05],\n",
       "       [1.00000000e+00],\n",
       "       [1.55242117e-06],\n",
       "       [1.00000000e+00],\n",
       "       [6.74685361e-05],\n",
       "       [1.00000000e+00],\n",
       "       [2.80767063e-06],\n",
       "       [1.00000000e+00],\n",
       "       [4.20769857e-06],\n",
       "       [1.00000000e+00],\n",
       "       [2.29354487e-06],\n",
       "       [1.00000000e+00],\n",
       "       [2.05128708e-06],\n",
       "       [1.00000000e+00],\n",
       "       [4.48014225e-06],\n",
       "       [4.20769857e-06],\n",
       "       [1.00000000e+00],\n",
       "       [1.00000000e+00],\n",
       "       [2.07881067e-06],\n",
       "       [1.00000000e+00],\n",
       "       [1.86672105e-06],\n",
       "       [8.81681808e-06],\n",
       "       [1.00000000e+00],\n",
       "       [1.52375117e-06],\n",
       "       [1.00000000e+00],\n",
       "       [5.56672740e-06],\n",
       "       [1.00000000e+00],\n",
       "       [8.09479445e-07],\n",
       "       [1.00000000e+00],\n",
       "       [1.28291947e-06],\n",
       "       [1.00000000e+00],\n",
       "       [1.46099035e-06],\n",
       "       [9.80938967e-06],\n",
       "       [1.00000000e+00],\n",
       "       [1.28291947e-06],\n",
       "       [1.01665933e-06],\n",
       "       [1.00000000e+00],\n",
       "       [2.32261707e-04],\n",
       "       [5.36122061e-05],\n",
       "       [1.00000000e+00],\n",
       "       [1.00000000e+00],\n",
       "       [4.17988332e-07],\n",
       "       [1.00000000e+00],\n",
       "       [1.00000000e+00],\n",
       "       [2.07881067e-06],\n",
       "       [8.57516534e-06],\n",
       "       [1.00000000e+00],\n",
       "       [4.55771078e-05],\n",
       "       [1.00000000e+00],\n",
       "       [3.93986011e-05],\n",
       "       [1.00000000e+00],\n",
       "       [1.68603074e-04],\n",
       "       [1.00000000e+00],\n",
       "       [2.14659372e-06],\n",
       "       [1.00000000e+00],\n",
       "       [8.99122533e-05],\n",
       "       [1.00000000e+00],\n",
       "       [1.00000000e+00],\n",
       "       [3.76716744e-05],\n",
       "       [1.00000000e+00],\n",
       "       [4.87136531e-05],\n",
       "       [1.00000000e+00],\n",
       "       [1.00131206e-06],\n",
       "       [1.00000000e+00],\n",
       "       [2.68349140e-06],\n",
       "       [1.00000000e+00],\n",
       "       [6.89357785e-06],\n",
       "       [1.00030320e-05],\n",
       "       [1.92659081e-06],\n",
       "       [1.00000000e+00],\n",
       "       [4.32779962e-05],\n",
       "       [1.00000000e+00],\n",
       "       [1.00000000e+00],\n",
       "       [2.17302181e-06],\n",
       "       [1.00000000e+00],\n",
       "       [1.45713591e-06],\n",
       "       [1.00000000e+00],\n",
       "       [7.60651892e-05],\n",
       "       [1.00000000e+00],\n",
       "       [1.80245627e-06],\n",
       "       [1.63474158e-06],\n",
       "       [4.00310091e-06],\n",
       "       [1.00000000e+00],\n",
       "       [2.33872697e-06],\n",
       "       [1.84611736e-06],\n",
       "       [1.00000000e+00],\n",
       "       [9.00104988e-06],\n",
       "       [1.00000000e+00],\n",
       "       [1.82643043e-06],\n",
       "       [1.00000000e+00],\n",
       "       [6.18628474e-05],\n",
       "       [1.00000000e+00],\n",
       "       [4.64630539e-05],\n",
       "       [1.00000000e+00],\n",
       "       [1.00000000e+00],\n",
       "       [1.09950054e-06],\n",
       "       [1.00000000e+00],\n",
       "       [3.60016013e-03],\n",
       "       [1.00000000e+00],\n",
       "       [5.77025276e-06],\n",
       "       [1.44970647e-06],\n",
       "       [1.00000000e+00],\n",
       "       [2.10821486e-06],\n",
       "       [1.07245578e-05],\n",
       "       [1.00000000e+00],\n",
       "       [2.75041839e-06],\n",
       "       [1.00000000e+00],\n",
       "       [1.95453549e-06],\n",
       "       [1.00000000e+00],\n",
       "       [1.50390065e-06],\n",
       "       [1.00000000e+00],\n",
       "       [9.60791112e-07],\n",
       "       [1.00000000e+00],\n",
       "       [4.07160144e-07],\n",
       "       [1.00000000e+00],\n",
       "       [2.92496898e-05],\n",
       "       [1.00000000e+00],\n",
       "       [7.46880178e-05],\n",
       "       [4.52157583e-05],\n",
       "       [1.00000000e+00],\n",
       "       [1.00000000e+00],\n",
       "       [5.66323615e-05],\n",
       "       [1.90003644e-04],\n",
       "       [1.00000000e+00],\n",
       "       [2.33964624e-06],\n",
       "       [1.00000000e+00],\n",
       "       [2.75041839e-06],\n",
       "       [1.00000000e+00],\n",
       "       [1.00000000e+00],\n",
       "       [5.48184471e-05],\n",
       "       [1.00000000e+00],\n",
       "       [8.40874927e-05],\n",
       "       [1.00000000e+00],\n",
       "       [1.00000000e+00],\n",
       "       [1.00000000e+00],\n",
       "       [1.00000000e+00],\n",
       "       [1.00000000e+00],\n",
       "       [1.01004749e-04],\n",
       "       [1.00000000e+00],\n",
       "       [8.07612087e-05],\n",
       "       [1.00000000e+00],\n",
       "       [9.23712378e-06],\n",
       "       [1.98434736e-06],\n",
       "       [1.00000000e+00],\n",
       "       [5.32182366e-06],\n",
       "       [1.00000000e+00],\n",
       "       [5.17419085e-06],\n",
       "       [1.00000000e+00],\n",
       "       [2.26987640e-06],\n",
       "       [7.49656010e-06],\n",
       "       [1.00000000e+00],\n",
       "       [5.82282119e-05],\n",
       "       [1.00000000e+00],\n",
       "       [1.00000000e+00],\n",
       "       [7.96546658e-07],\n",
       "       [1.00000000e+00],\n",
       "       [1.69621046e-06],\n",
       "       [1.00000000e+00],\n",
       "       [2.32581351e-06],\n",
       "       [1.40727752e-06],\n",
       "       [1.00000000e+00],\n",
       "       [6.35796459e-05],\n",
       "       [1.00000000e+00],\n",
       "       [8.03149960e-05],\n",
       "       [4.89855192e-05],\n",
       "       [1.00000000e+00],\n",
       "       [2.33678191e-04],\n",
       "       [1.33283320e-04],\n",
       "       [4.66163947e-05],\n",
       "       [1.00000000e+00],\n",
       "       [6.96244169e-05],\n",
       "       [1.00000000e+00],\n",
       "       [5.39087569e-06],\n",
       "       [1.00000000e+00],\n",
       "       [2.13417889e-06],\n",
       "       [8.12485723e-06],\n",
       "       [6.33118558e-04],\n",
       "       [1.00000000e+00],\n",
       "       [1.78847040e-06],\n",
       "       [1.00000000e+00],\n",
       "       [1.13395981e-06],\n",
       "       [1.87427383e-06],\n",
       "       [1.00000000e+00],\n",
       "       [8.65092170e-06],\n",
       "       [1.04585370e-05],\n",
       "       [2.26739917e-06],\n",
       "       [1.00000000e+00],\n",
       "       [7.17645307e-05],\n",
       "       [1.00000000e+00],\n",
       "       [1.00000000e+00],\n",
       "       [1.29026171e-06],\n",
       "       [6.75481642e-05],\n",
       "       [1.45076658e-04],\n",
       "       [1.00000000e+00],\n",
       "       [1.00000000e+00],\n",
       "       [5.41566333e-05],\n",
       "       [1.00000000e+00],\n",
       "       [1.91959589e-06],\n",
       "       [1.00000000e+00],\n",
       "       [2.33287324e-06],\n",
       "       [1.00000000e+00],\n",
       "       [2.33287324e-06],\n",
       "       [1.00000000e+00],\n",
       "       [1.00000000e+00],\n",
       "       [1.00000000e+00],\n",
       "       [2.44577177e-06],\n",
       "       [1.00000000e+00],\n",
       "       [1.75903915e-06],\n",
       "       [1.00000000e+00],\n",
       "       [5.57617977e-06],\n",
       "       [1.00000000e+00],\n",
       "       [5.08534231e-06],\n",
       "       [1.27319311e-06],\n",
       "       [1.00000000e+00],\n",
       "       [1.64468438e-04],\n",
       "       [5.98442020e-05],\n",
       "       [1.00000000e+00],\n",
       "       [1.00000000e+00],\n",
       "       [2.00878208e-06],\n",
       "       [6.32164847e-06],\n",
       "       [8.12485723e-06],\n",
       "       [1.00000000e+00],\n",
       "       [2.26739917e-06],\n",
       "       [1.00000000e+00],\n",
       "       [1.21942121e-05],\n",
       "       [1.00000000e+00],\n",
       "       [2.68057829e-06],\n",
       "       [1.00000000e+00],\n",
       "       [1.00000000e+00],\n",
       "       [1.00000000e+00],\n",
       "       [2.96898946e-07],\n",
       "       [1.00000000e+00],\n",
       "       [2.37274458e-06],\n",
       "       [1.00000000e+00],\n",
       "       [1.00000000e+00],\n",
       "       [2.13417889e-06],\n",
       "       [1.97860072e-06],\n",
       "       [1.00000000e+00],\n",
       "       [6.54421228e-06],\n",
       "       [1.00000000e+00],\n",
       "       [1.12955822e-05],\n",
       "       [8.65092170e-06],\n",
       "       [2.16673129e-06],\n",
       "       [1.00000000e+00],\n",
       "       [1.00000000e+00],\n",
       "       [1.00000000e+00],\n",
       "       [1.00000000e+00],\n",
       "       [4.54597102e-06],\n",
       "       [1.00000000e+00],\n",
       "       [2.03351556e-06],\n",
       "       [9.98866796e-01],\n",
       "       [1.59172295e-03],\n",
       "       [1.00000000e+00],\n",
       "       [4.23813208e-06],\n",
       "       [1.00000000e+00],\n",
       "       [4.15107752e-06],\n",
       "       [1.00000000e+00],\n",
       "       [1.44456430e-06],\n",
       "       [1.00000000e+00],\n",
       "       [4.44096713e-07],\n",
       "       [1.00000000e+00],\n",
       "       [1.00000000e+00],\n",
       "       [1.86716625e-06],\n",
       "       [1.00000000e+00],\n",
       "       [3.28363313e-07],\n",
       "       [1.00000000e+00],\n",
       "       [3.50454172e-07],\n",
       "       [1.00000000e+00],\n",
       "       [8.25991492e-07],\n",
       "       [1.00000000e+00],\n",
       "       [7.49379126e-07],\n",
       "       [1.00000000e+00],\n",
       "       [1.00000000e+00],\n",
       "       [3.59282637e-07],\n",
       "       [1.00000000e+00],\n",
       "       [4.70590606e-07],\n",
       "       [1.00000000e+00],\n",
       "       [4.11723960e-07],\n",
       "       [1.00000000e+00],\n",
       "       [1.80366169e-06],\n",
       "       [2.88714273e-06],\n",
       "       [1.00000000e+00],\n",
       "       [2.04956837e-06],\n",
       "       [1.65116489e-05],\n",
       "       [1.00000000e+00],\n",
       "       [5.46211995e-05],\n",
       "       [1.00000000e+00],\n",
       "       [4.30074664e-07],\n",
       "       [1.00000000e+00],\n",
       "       [2.00296654e-06],\n",
       "       [1.00000000e+00],\n",
       "       [1.00000000e+00],\n",
       "       [2.67004361e-06],\n",
       "       [1.14265722e-05],\n",
       "       [1.00000000e+00],\n",
       "       [8.96916663e-06],\n",
       "       [1.00000000e+00],\n",
       "       [1.00000000e+00],\n",
       "       [1.00000000e+00],\n",
       "       [4.64593322e-05],\n",
       "       [1.00000000e+00],\n",
       "       [5.15371357e-06],\n",
       "       [1.00000000e+00],\n",
       "       [4.58227049e-07],\n",
       "       [4.58227049e-07],\n",
       "       [1.00000000e+00],\n",
       "       [2.47728894e-06],\n",
       "       [4.18003481e-07],\n",
       "       [2.31083914e-06],\n",
       "       [1.00000000e+00],\n",
       "       [3.07664379e-07],\n",
       "       [3.24818927e-07],\n",
       "       [1.00000000e+00],\n",
       "       [3.07664948e-07],\n",
       "       [1.00000000e+00],\n",
       "       [1.09189648e-06],\n",
       "       [1.00000000e+00],\n",
       "       [1.19060087e-06],\n",
       "       [9.78227945e-06],\n",
       "       [1.00000000e+00],\n",
       "       [1.74780553e-06],\n",
       "       [1.00000000e+00],\n",
       "       [1.36932533e-06],\n",
       "       [6.41872566e-06],\n",
       "       [1.00000000e+00],\n",
       "       [5.46211995e-05],\n",
       "       [9.08043876e-05],\n",
       "       [1.00000000e+00],\n",
       "       [7.50929667e-06],\n",
       "       [2.06453456e-06],\n",
       "       [1.00000000e+00],\n",
       "       [2.40196414e-06],\n",
       "       [1.00000000e+00],\n",
       "       [2.36159713e-06],\n",
       "       [9.93469621e-06],\n",
       "       [1.00000000e+00],\n",
       "       [2.22284211e-06],\n",
       "       [1.00000000e+00],\n",
       "       [3.45165034e-07],\n",
       "       [1.00000000e+00],\n",
       "       [2.27083383e-05],\n",
       "       [1.00000000e+00],\n",
       "       [2.94311292e-07],\n",
       "       [1.36442395e-06],\n",
       "       [1.00000000e+00],\n",
       "       [1.28145336e-06],\n",
       "       [1.00000000e+00],\n",
       "       [1.00000000e+00],\n",
       "       [1.00000000e+00],\n",
       "       [4.44096713e-07],\n",
       "       [1.00000000e+00],\n",
       "       [1.00000000e+00],\n",
       "       [1.91874483e-06],\n",
       "       [1.33535013e-05],\n",
       "       [1.00000000e+00],\n",
       "       [6.25562243e-05],\n",
       "       [1.00000000e+00],\n",
       "       [1.00000000e+00],\n",
       "       [4.47359298e-06],\n",
       "       [1.00000000e+00],\n",
       "       [3.97568641e-07],\n",
       "       [1.00000000e+00],\n",
       "       [6.65439529e-07],\n",
       "       [1.00000000e+00],\n",
       "       [3.41628242e-06],\n",
       "       [4.23279607e-06],\n",
       "       [1.00000000e+00],\n",
       "       [4.37598919e-06],\n",
       "       [1.63566801e-05],\n",
       "       [1.00000000e+00],\n",
       "       [1.00000000e+00],\n",
       "       [4.95278812e-07],\n",
       "       [1.00000000e+00],\n",
       "       [4.70453756e-07],\n",
       "       [1.00000000e+00],\n",
       "       [3.42486118e-07],\n",
       "       [1.00000000e+00],\n",
       "       [6.42870873e-07],\n",
       "       [1.00000000e+00],\n",
       "       [3.24398826e-07],\n",
       "       [3.38790585e-07],\n",
       "       [1.00000000e+00],\n",
       "       [4.95278812e-07],\n",
       "       [1.00000000e+00],\n",
       "       [3.86410903e-07],\n",
       "       [1.00000000e+00],\n",
       "       [3.65528109e-07],\n",
       "       [1.00000000e+00],\n",
       "       [1.00000000e+00],\n",
       "       [2.18310447e-06],\n",
       "       [1.00000000e+00],\n",
       "       [2.05898206e-04],\n",
       "       [1.00000000e+00],\n",
       "       [9.63502953e-06],\n",
       "       [1.00000000e+00],\n",
       "       [6.30171280e-06],\n",
       "       [5.22057371e-06],\n",
       "       [1.00000000e+00],\n",
       "       [3.94605604e-06],\n",
       "       [1.00000000e+00],\n",
       "       [9.44491035e-07],\n",
       "       [4.88453270e-06],\n",
       "       [1.00000000e+00],\n",
       "       [8.84872520e-07],\n",
       "       [5.20079584e-06],\n",
       "       [1.00000000e+00],\n",
       "       [9.77651507e-06],\n",
       "       [2.46416448e-06],\n",
       "       [1.00000000e+00],\n",
       "       [3.53819786e-07],\n",
       "       [1.00000000e+00],\n",
       "       [2.75401987e-07],\n",
       "       [1.00000000e+00],\n",
       "       [2.41769698e-07],\n",
       "       [1.00000000e+00],\n",
       "       [3.17433717e-07],\n",
       "       [3.07266163e-07],\n",
       "       [1.00000000e+00],\n",
       "       [1.56563578e-06],\n",
       "       [3.92304401e-07],\n",
       "       [1.00000000e+00],\n",
       "       [3.86410903e-07],\n",
       "       [1.00000000e+00],\n",
       "       [3.50001272e-07],\n",
       "       [1.00000000e+00],\n",
       "       [4.56422725e-07],\n",
       "       [6.00708631e-07],\n",
       "       [1.00000000e+00],\n",
       "       [4.86519752e-07],\n",
       "       [1.00000000e+00],\n",
       "       [2.93929816e-07],\n",
       "       [1.00000000e+00],\n",
       "       [1.00000000e+00],\n",
       "       [4.29605706e-07],\n",
       "       [1.00000000e+00],\n",
       "       [3.69516016e-07],\n",
       "       [3.53819445e-07],\n",
       "       [1.00000000e+00],\n",
       "       [1.00000000e+00],\n",
       "       [3.38463110e-07],\n",
       "       [1.00000000e+00],\n",
       "       [3.69516385e-07],\n",
       "       [1.00000000e+00],\n",
       "       [3.57680591e-07],\n",
       "       [1.00000000e+00],\n",
       "       [3.74886781e-07],\n",
       "       [1.56563578e-06],\n",
       "       [1.00000000e+00],\n",
       "       [3.03656861e-07],\n",
       "       [1.00000000e+00],\n",
       "       [1.00000000e+00],\n",
       "       [2.94129194e-07],\n",
       "       [5.30596537e-07],\n",
       "       [1.00000000e+00],\n",
       "       [1.29703233e-06],\n",
       "       [1.00000000e+00],\n",
       "       [2.93929816e-07],\n",
       "       [1.00000000e+00],\n",
       "       [1.62075810e-06],\n",
       "       [1.00000000e+00],\n",
       "       [3.10319393e-07],\n",
       "       [1.00000000e+00],\n",
       "       [1.00000000e+00],\n",
       "       [3.50001272e-07],\n",
       "       [1.00000000e+00],\n",
       "       [3.13704675e-07],\n",
       "       [1.00000000e+00],\n",
       "       [2.55256936e-07],\n",
       "       [1.00000000e+00],\n",
       "       [3.38790585e-07],\n",
       "       [1.00000000e+00],\n",
       "       [3.03656861e-07],\n",
       "       [1.00000000e+00],\n",
       "       [3.43531269e-07],\n",
       "       [1.00000000e+00],\n",
       "       [3.46222635e-07],\n",
       "       [1.00000000e+00],\n",
       "       [1.69692555e-06],\n",
       "       [1.00000000e+00],\n",
       "       [1.35015807e-05],\n",
       "       [9.49761943e-06],\n",
       "       [2.58332329e-06],\n",
       "       [1.00000000e+00],\n",
       "       [2.31138347e-06],\n",
       "       [1.00000000e+00],\n",
       "       [2.94129194e-07],\n",
       "       [1.00000000e+00],\n",
       "       [3.22669894e-06],\n",
       "       [1.00000000e+00],\n",
       "       [3.53819445e-07],\n",
       "       [1.00000000e+00],\n",
       "       [8.55331746e-06],\n",
       "       [2.11451334e-06],\n",
       "       [1.00000000e+00],\n",
       "       [2.23401742e-07],\n",
       "       [1.00000000e+00],\n",
       "       [2.15030832e-06],\n",
       "       [1.00000000e+00],\n",
       "       [2.15419800e-06],\n",
       "       [1.00000000e+00],\n",
       "       [6.24715758e-05],\n",
       "       [1.00000000e+00],\n",
       "       [1.40299210e-06],\n",
       "       [1.00000000e+00],\n",
       "       [4.23317433e-05],\n",
       "       [1.00000000e+00],\n",
       "       [6.92217654e-05],\n",
       "       [1.00000000e+00],\n",
       "       [1.00000000e+00],\n",
       "       [2.54389830e-04],\n",
       "       [7.02775869e-05],\n",
       "       [1.00000000e+00],\n",
       "       [2.46416448e-06],\n",
       "       [2.35476477e-06],\n",
       "       [1.11373174e-05],\n",
       "       [1.00000000e+00],\n",
       "       [2.15030832e-06],\n",
       "       [7.60673038e-06],\n",
       "       [1.00000000e+00],\n",
       "       [1.00000000e+00],\n",
       "       [5.74966498e-06],\n",
       "       [2.46862646e-06],\n",
       "       [1.00000000e+00],\n",
       "       [9.99999464e-01],\n",
       "       [1.79131154e-03],\n",
       "       [1.00000000e+00],\n",
       "       [7.86820237e-06],\n",
       "       [1.35015807e-05],\n",
       "       [1.00000000e+00],\n",
       "       [1.01125488e-05],\n",
       "       [1.66884784e-05],\n",
       "       [1.00000000e+00],\n",
       "       [7.60673038e-06],\n",
       "       [1.00000000e+00],\n",
       "       [1.11877644e-05],\n",
       "       [1.28499369e-06],\n",
       "       [1.00000000e+00],\n",
       "       [2.32358343e-06],\n",
       "       [1.00000000e+00],\n",
       "       [8.92006665e-06],\n",
       "       [1.00000000e+00],\n",
       "       [2.18705554e-06],\n",
       "       [1.00000000e+00],\n",
       "       [1.00000000e+00],\n",
       "       [2.31963782e-06],\n",
       "       [1.00000000e+00],\n",
       "       [1.34269931e-06],\n",
       "       [1.00000000e+00],\n",
       "       [3.69516016e-07],\n",
       "       [1.38101416e-06],\n",
       "       [1.00000000e+00],\n",
       "       [5.25021096e-06],\n",
       "       [1.74386287e-06],\n",
       "       [1.00000000e+00],\n",
       "       [3.13433043e-06],\n",
       "       [9.94194761e-06],\n",
       "       [1.00000000e+00],\n",
       "       [1.41906739e-05],\n",
       "       [1.88087029e-06],\n",
       "       [1.00000000e+00],\n",
       "       [1.00000000e+00],\n",
       "       [1.98574253e-06],\n",
       "       [1.00000000e+00],\n",
       "       [2.25560211e-06],\n",
       "       [2.05975357e-06],\n",
       "       [1.00000000e+00],\n",
       "       [2.24775567e-06],\n",
       "       [8.77804086e-06],\n",
       "       [1.00000000e+00],\n",
       "       [8.24424478e-06],\n",
       "       [6.41454017e-06],\n",
       "       [1.00000000e+00],\n",
       "       [6.62984457e-05],\n",
       "       [1.00000000e+00],\n",
       "       [1.00000000e+00],\n",
       "       [6.82986183e-06],\n",
       "       [2.11933843e-06],\n",
       "       [1.00000000e+00],\n",
       "       [2.38375378e-06],\n",
       "       [1.00000000e+00],\n",
       "       [6.10513380e-05],\n",
       "       [1.00000000e+00],\n",
       "       [2.38806797e-06],\n",
       "       [1.00000000e+00],\n",
       "       [2.57118404e-06],\n",
       "       [1.00000000e+00],\n",
       "       [2.24775567e-06],\n",
       "       [1.00000000e+00],\n",
       "       [8.77804086e-06],\n",
       "       [6.82986183e-06],\n",
       "       [1.00000000e+00],\n",
       "       [4.49521849e-07],\n",
       "       [4.84974817e-06],\n",
       "       [1.00000000e+00],\n",
       "       [6.86598241e-06],\n",
       "       [1.38467647e-06],\n",
       "       [1.00000000e+00],\n",
       "       [1.00000000e+00],\n",
       "       [1.34095262e-06],\n",
       "       [1.00000000e+00],\n",
       "       [2.24775567e-06],\n",
       "       [1.00000000e+00],\n",
       "       [1.00000000e+00],\n",
       "       [3.71441928e-07],\n",
       "       [1.00000000e+00],\n",
       "       [1.24138671e-06],\n",
       "       [1.00000000e+00],\n",
       "       [3.55664241e-07],\n",
       "       [1.00000000e+00],\n",
       "       [1.05958843e-05],\n",
       "       [2.46147533e-06],\n",
       "       [1.00000000e+00],\n",
       "       [1.04345008e-06],\n",
       "       [1.00000000e+00],\n",
       "       [1.00000000e+00],\n",
       "       [6.20890860e-05],\n",
       "       [1.00000000e+00],\n",
       "       [7.22278855e-05],\n",
       "       [1.89191211e-04],\n",
       "       [1.00000000e+00],\n",
       "       [1.36455883e-05],\n",
       "       [1.09070306e-05],\n",
       "       [2.53255098e-06],\n",
       "       [1.00000000e+00],\n",
       "       [2.10838789e-06],\n",
       "       [9.95148242e-01],\n",
       "       [1.82881858e-03],\n",
       "       [9.96242106e-01],\n",
       "       [1.83272408e-03],\n",
       "       [8.80270123e-01],\n",
       "       [1.00000000e+00],\n",
       "       [2.62827257e-06],\n",
       "       [9.06914890e-01],\n",
       "       [2.57871510e-03],\n",
       "       [1.00000000e+00],\n",
       "       [1.60282946e-06],\n",
       "       [1.00000000e+00],\n",
       "       [8.77804086e-06],\n",
       "       [1.00000000e+00],\n",
       "       [2.46147533e-06],\n",
       "       [1.00000000e+00],\n",
       "       [1.43821308e-04],\n",
       "       [1.91046202e-04],\n",
       "       [5.09394558e-05],\n",
       "       [1.00000000e+00],\n",
       "       [1.85877673e-06],\n",
       "       [1.00000000e+00],\n",
       "       [1.07445578e-06],\n",
       "       [1.00000000e+00],\n",
       "       [2.24775567e-06],\n",
       "       [1.00000000e+00],\n",
       "       [3.73995135e-06],\n",
       "       [1.00000000e+00],\n",
       "       [2.37983340e-06],\n",
       "       [1.00000000e+00],\n",
       "       [2.45702608e-06],\n",
       "       [1.00000000e+00],\n",
       "       [7.97029315e-06],\n",
       "       [1.00000000e+00],\n",
       "       [3.34494189e-06],\n",
       "       [1.00000000e+00],\n",
       "       [1.53405981e-05],\n",
       "       [2.57583747e-06],\n",
       "       [1.00000000e+00],\n",
       "       [8.32331498e-05],\n",
       "       [1.00000000e+00],\n",
       "       [1.07567412e-05],\n",
       "       [1.51633208e-06],\n",
       "       [1.00000000e+00],\n",
       "       [6.23658798e-06],\n",
       "       [1.00000000e+00],\n",
       "       [1.38257776e-04],\n",
       "       [6.41750157e-05],\n",
       "       [1.56738126e-04],\n",
       "       [1.00000000e+00],\n",
       "       [9.19760259e-06],\n",
       "       [2.34537856e-06],\n",
       "       [1.04271676e-05],\n",
       "       [1.00000000e+00],\n",
       "       [2.90928710e-06],\n",
       "       [1.00000000e+00],\n",
       "       [6.54598916e-05],\n",
       "       [1.54243025e-04],\n",
       "       [1.00000000e+00],\n",
       "       [1.14136645e-04],\n",
       "       [1.00000000e+00],\n",
       "       [1.00000000e+00],\n",
       "       [1.42053500e-06],\n",
       "       [1.00000000e+00],\n",
       "       [6.49776939e-06],\n",
       "       [1.00000000e+00],\n",
       "       [5.73153284e-06],\n",
       "       [1.00000000e+00],\n",
       "       [2.27543160e-06],\n",
       "       [7.61963975e-06],\n",
       "       [1.00000000e+00],\n",
       "       [1.00000000e+00],\n",
       "       [3.73082116e-06],\n",
       "       [1.00000000e+00],\n",
       "       [2.31014496e-06],\n",
       "       [1.00000000e+00],\n",
       "       [5.73153284e-06],\n",
       "       [2.20082075e-06],\n",
       "       [1.00000000e+00],\n",
       "       [2.31014496e-06],\n",
       "       [1.00000000e+00],\n",
       "       [3.63366325e-06],\n",
       "       [3.63366325e-06],\n",
       "       [1.00000000e+00],\n",
       "       [1.18176604e-06],\n",
       "       [1.00000000e+00],\n",
       "       [2.30781529e-06],\n",
       "       [1.00000000e+00],\n",
       "       [1.00000000e+00],\n",
       "       [5.56803889e-06],\n",
       "       [1.00000000e+00],\n",
       "       [2.60284241e-06],\n",
       "       [2.44991543e-06],\n",
       "       [1.00000000e+00],\n",
       "       [2.30596720e-06],\n",
       "       [1.00000000e+00],\n",
       "       [6.10264897e-06],\n",
       "       [1.00000000e+00],\n",
       "       [1.28448528e-06],\n",
       "       [1.00000000e+00],\n",
       "       [2.17702950e-06],\n",
       "       [1.00000000e+00],\n",
       "       [1.11023010e-05],\n",
       "       [2.45435172e-06],\n",
       "       [1.00000000e+00],\n",
       "       [2.83400936e-04],\n",
       "       [6.01848333e-05],\n",
       "       [1.00000000e+00],\n",
       "       [2.98636746e-06],\n",
       "       [1.00000000e+00],\n",
       "       [1.00000000e+00],\n",
       "       [4.89786544e-05],\n",
       "       [1.00000000e+00],\n",
       "       [2.30596720e-06],\n",
       "       [1.00000000e+00],\n",
       "       [2.04875732e-06],\n",
       "       [1.00000000e+00],\n",
       "       [1.44220212e-06],\n",
       "       [1.00000000e+00],\n",
       "       [1.22747988e-05],\n",
       "       [2.76532342e-06],\n",
       "       [1.00000000e+00],\n",
       "       [8.35123046e-06],\n",
       "       [2.30596720e-06],\n",
       "       [1.00000000e+00],\n",
       "       [3.42271983e-06],\n",
       "       [1.00000000e+00],\n",
       "       [6.22445611e-07],\n",
       "       [1.00000000e+00],\n",
       "       [5.96684515e-07],\n",
       "       [1.00000000e+00],\n",
       "       [3.24635448e-06],\n",
       "       [4.08959522e-06],\n",
       "       [1.00000000e+00],\n",
       "       [2.44203693e-04],\n",
       "       [7.09368251e-05],\n",
       "       [1.00000000e+00],\n",
       "       [2.37684844e-06],\n",
       "       [1.00000000e+00],\n",
       "       [2.27543160e-06],\n",
       "       [1.00000000e+00],\n",
       "       [2.20082075e-06],\n",
       "       [1.00000000e+00],\n",
       "       [2.16303556e-06],\n",
       "       [1.00000000e+00],\n",
       "       [7.88790931e-06]], dtype=float32)"
      ]
     },
     "execution_count": 48,
     "metadata": {},
     "output_type": "execute_result"
    }
   ],
   "source": [
    "y_pred = model.predict(df_test)\n",
    "y_pred"
   ]
  },
  {
   "cell_type": "code",
   "execution_count": 49,
   "id": "66c4cf68",
   "metadata": {
    "scrolled": true
   },
   "outputs": [
    {
     "name": "stdout",
     "output_type": "stream",
     "text": [
      "32/32 [==============================] - 1s 5ms/step - loss: 0.0015 - accuracy: 0.9990\n",
      "Test Accuracy: 99.90%\n",
      "Test Loss: 0.001474778400734067\n"
     ]
    }
   ],
   "source": [
    "scoreNew = model.evaluate(df_test, y_test)\n",
    "print('Test Accuracy: {:.2f}%\\nTest Loss: {}'.format(scoreNew[1]*100,scoreNew[0]))\n",
    "\n"
   ]
  },
  {
   "cell_type": "markdown",
   "id": "79e4abff",
   "metadata": {},
   "source": [
    "for training and testing of data we have got as around 99% accuracy"
   ]
  },
  {
   "cell_type": "markdown",
   "id": "8bfa9e57",
   "metadata": {},
   "source": [
    "visualization on the given dataset"
   ]
  },
  {
   "cell_type": "markdown",
   "id": "229de6fd",
   "metadata": {},
   "source": [
    "2. Do a thorough analysis on the results and the dataset with visualizations (please feel free to add creative ways of visualization here).\n"
   ]
  },
  {
   "cell_type": "code",
   "execution_count": 50,
   "id": "159fd050",
   "metadata": {},
   "outputs": [
    {
     "name": "stdout",
     "output_type": "stream",
     "text": [
      "32/32 [==============================] - 0s 3ms/step - loss: 0.0015 - accuracy: 0.9990\n",
      "Test Accuracy: 99.90%\n",
      "Test Loss: 0.001474778400734067\n"
     ]
    }
   ],
   "source": [
    "scoreNew = model.evaluate(df_test, y_test)\n",
    "print('Test Accuracy: {:.2f}%\\nTest Loss: {}'.format(scoreNew[1]*100,scoreNew[0]))\n"
   ]
  },
  {
   "cell_type": "markdown",
   "id": "98403b18",
   "metadata": {},
   "source": [
    "visualization on the dataset"
   ]
  },
  {
   "cell_type": "code",
   "execution_count": 51,
   "id": "4273dc0a",
   "metadata": {},
   "outputs": [],
   "source": [
    "df1 = pd.read_csv('train_data')\n",
    "df2 = pd.read_csv('test_data')\n",
    "df = pd.concat([df1,df2], axis=0)"
   ]
  },
  {
   "cell_type": "code",
   "execution_count": 52,
   "id": "281efbe4",
   "metadata": {},
   "outputs": [],
   "source": [
    "df.drop(['Unnamed: 0.1','Unnamed: 0','ID'], axis=1, inplace=True)"
   ]
  },
  {
   "cell_type": "code",
   "execution_count": 53,
   "id": "b7de2962",
   "metadata": {},
   "outputs": [],
   "source": [
    "import matplotlib.pyplot as plt\n",
    "import seaborn as sns"
   ]
  },
  {
   "cell_type": "markdown",
   "id": "0b544ea4",
   "metadata": {},
   "source": [
    "cheking counts of how many cheked in and how many not\n",
    "yes=1, No=0"
   ]
  },
  {
   "cell_type": "code",
   "execution_count": 54,
   "id": "f1d7628b",
   "metadata": {
    "scrolled": true
   },
   "outputs": [
    {
     "data": {
      "text/plain": [
       "<AxesSubplot:xlabel='BookingsCheckedIn', ylabel='count'>"
      ]
     },
     "execution_count": 54,
     "metadata": {},
     "output_type": "execute_result"
    },
    {
     "data": {
      "image/png": "[encoded data removed]",
      "text/plain": [
       "<Figure size 432x288 with 1 Axes>"
      ]
     },
     "metadata": {
      "needs_background": "light"
     },
     "output_type": "display_data"
    }
   ],
   "source": [
    "sns.countplot(x=df.BookingsCheckedIn)"
   ]
  },
  {
   "cell_type": "markdown",
   "id": "00f6ac5b",
   "metadata": {},
   "source": [
    "for further analysis we will chek for booking who has been cheked in"
   ]
  },
  {
   "cell_type": "code",
   "execution_count": 55,
   "id": "8519cbaa",
   "metadata": {},
   "outputs": [],
   "source": [
    "df = df[(df.BookingsCheckedIn==1)]"
   ]
  },
  {
   "cell_type": "code",
   "execution_count": 56,
   "id": "e89286ba",
   "metadata": {},
   "outputs": [
    {
     "data": {
      "text/plain": [
       "Text(0.5, 1.0, 'COUNT OF DISTRIBUTION CHANNEL FOR BOOKING CHEKED IN')"
      ]
     },
     "execution_count": 56,
     "metadata": {},
     "output_type": "execute_result"
    },
    {
     "data": {
      "image/png": "[encoded data removed]",
      "text/plain": [
       "<Figure size 432x288 with 1 Axes>"
      ]
     },
     "metadata": {
      "needs_background": "light"
     },
     "output_type": "display_data"
    }
   ],
   "source": [
    "sns.countplot(x=df.DistributionChannel)\n",
    "plt.title('COUNT OF DISTRIBUTION CHANNEL FOR BOOKING CHEKED IN')\n"
   ]
  },
  {
   "cell_type": "markdown",
   "id": "431af26e",
   "metadata": {},
   "source": [
    "from the above result we can see that we have to take some actions for corporate and electronic distribution category so they can increase their rate of cheked in hotel."
   ]
  },
  {
   "cell_type": "code",
   "execution_count": 57,
   "id": "e8b62603",
   "metadata": {},
   "outputs": [
    {
     "data": {
      "text/plain": [
       "Text(0.5, 1.0, 'TOP 10 NATIONALITIS FOR BOOKING HOTEL')"
      ]
     },
     "execution_count": 57,
     "metadata": {},
     "output_type": "execute_result"
    },
    {
     "data": {
      "image/png": "[encoded data removed]",
      "text/plain": [
       "<Figure size 432x288 with 1 Axes>"
      ]
     },
     "metadata": {
      "needs_background": "light"
     },
     "output_type": "display_data"
    }
   ],
   "source": [
    "sns.countplot(x=df.Nationality, data =df, palette='Greens_d', order=df.Nationality.value_counts().iloc[0:10].index)\n",
    "plt.title('TOP 10 NATIONALITIS FOR BOOKING HOTEL')\n"
   ]
  },
  {
   "cell_type": "markdown",
   "id": "44a02e4d",
   "metadata": {},
   "source": [
    "FROM result we can see that PRT nationality peoples has high rate for booking cheked in and NLD and BEL has low rate we have to give offers to peoples are from BRA and NLD so they can increase their rate for booking cheked in"
   ]
  },
  {
   "cell_type": "code",
   "execution_count": 58,
   "id": "ed5142f0",
   "metadata": {},
   "outputs": [
    {
     "data": {
      "text/plain": [
       "Text(0.5, 1.0, 'AGEWISE DISTRIBUTION OF CHEKED IN BOOKINGS')"
      ]
     },
     "execution_count": 58,
     "metadata": {},
     "output_type": "execute_result"
    },
    {
     "data": {
      "image/png": "[encoded data removed]",
      "text/plain": [
       "<Figure size 432x288 with 1 Axes>"
      ]
     },
     "metadata": {
      "needs_background": "light"
     },
     "output_type": "display_data"
    }
   ],
   "source": [
    "df.Age.hist()\n",
    "plt.xlabel('AGE')\n",
    "plt.ylabel('COUNT')\n",
    "plt.title('AGEWISE DISTRIBUTION OF CHEKED IN BOOKINGS')\n"
   ]
  },
  {
   "cell_type": "markdown",
   "id": "d04e1c21",
   "metadata": {},
   "source": [
    "as we can see between age of 40 to 60 peoples mostly cheked in so for increasing business we have to focus on peoples have age betn 25-65 mostly"
   ]
  },
  {
   "cell_type": "code",
   "execution_count": 59,
   "id": "b4edb225",
   "metadata": {
    "scrolled": true
   },
   "outputs": [
    {
     "data": {
      "text/plain": [
       "Text(0.5, 1.0, 'Count of cheked in people whe are interested in alcohol mini bar')"
      ]
     },
     "execution_count": 59,
     "metadata": {},
     "output_type": "execute_result"
    },
    {
     "data": {
      "image/png": "[encoded data removed]",
      "text/plain": [
       "<Figure size 432x288 with 1 Axes>"
      ]
     },
     "metadata": {
      "needs_background": "light"
     },
     "output_type": "display_data"
    }
   ],
   "source": [
    "sns.countplot(x=df.SRNoAlcoholInMiniBar)\n",
    "plt.xlabel('alcohol mini bar 0:NO  1:YES')\n",
    "plt.ylabel('COUNT')\n",
    "plt.title('Count of cheked in people whe are interested in alcohol mini bar')\n"
   ]
  },
  {
   "cell_type": "markdown",
   "id": "c89aeea7",
   "metadata": {},
   "source": [
    "As peoples are not interested in alcohol mini bar"
   ]
  },
  {
   "cell_type": "code",
   "execution_count": 60,
   "id": "05395feb",
   "metadata": {},
   "outputs": [
    {
     "data": {
      "text/plain": [
       "Text(0.5, 1.0, 'Count of cheked in people whe are interested iN bath tub')"
      ]
     },
     "execution_count": 60,
     "metadata": {},
     "output_type": "execute_result"
    },
    {
     "data": {
      "image/png": "[encoded data removed]",
      "text/plain": [
       "<Figure size 432x288 with 1 Axes>"
      ]
     },
     "metadata": {
      "needs_background": "light"
     },
     "output_type": "display_data"
    }
   ],
   "source": [
    "sns.countplot(data=df, x='SRBathtub', hue='MarketSegment')\n",
    "plt.xlabel('BATH TUB 0:NO  1:YES')\n",
    "plt.ylabel('COUNT')\n",
    "plt.title('Count of cheked in people whe are interested iN bath tub')\n"
   ]
  },
  {
   "cell_type": "code",
   "execution_count": 61,
   "id": "2e13dc2c",
   "metadata": {},
   "outputs": [
    {
     "data": {
      "text/plain": [
       "<AxesSubplot:xlabel='LodgingRevenue', ylabel='MarketSegment'>"
      ]
     },
     "execution_count": 61,
     "metadata": {},
     "output_type": "execute_result"
    },
    {
     "data": {
      "image/png": "[encoded data removed]",
      "text/plain": [
       "<Figure size 720x432 with 1 Axes>"
      ]
     },
     "metadata": {
      "needs_background": "light"
     },
     "output_type": "display_data"
    }
   ],
   "source": [
    "fig = plt.subplots(figsize=(10, 6))\n",
    "sns.boxplot(data=df, x='LodgingRevenue', y = 'MarketSegment')"
   ]
  },
  {
   "cell_type": "markdown",
   "id": "4ba69b9a",
   "metadata": {},
   "source": [
    "lodging revenue is varying too much with respect to every marketsegment as outliers are present in lodging revenue"
   ]
  },
  {
   "cell_type": "markdown",
   "id": "748e5a35",
   "metadata": {},
   "source": [
    "3. Host/Deploy the results using any hosting service you want (streamlit/flask)\n",
    "\n"
   ]
  },
  {
   "cell_type": "code",
   "execution_count": 64,
   "id": "7ec2dc65",
   "metadata": {},
   "outputs": [
    {
     "name": "stdout",
     "output_type": "stream",
     "text": [
      "[22, 122, 123, 134, 234, 1, 2, 2, 2, 1, 1, 1, 1, 1, 1, 1, 1, 1, 1, 1, 1, 1]\n",
      "1/1 [==============================] - 0s 32ms/step\n"
     ]
    },
    {
     "data": {
      "text/plain": [
       "array([[1.]], dtype=float32)"
      ]
     },
     "execution_count": 64,
     "metadata": {},
     "output_type": "execute_result"
    }
   ],
   "source": [
    "feature = [22, 122, 123, 134, 234, 1, 2, 2,2,1,1,1,1,1,1,1,1,1,1,1,1,1]\n",
    "print(feature)\n",
    "\t# re-arranging the list as per data set\n",
    "feature_list = ['Age', 'DaysSinceCreation', 'AverageLeadTime', 'LodgingRevenue',\n",
    "       'OtherRevenue', 'PersonsNights', 'RoomNights', 'DistributionChannel',\n",
    "       'MarketSegment', 'SRHighFloor', 'SRLowFloor', 'SRAccessibleRoom',\n",
    "       'SRMediumFloor', 'SRBathtub', 'SRShower', 'SRCrib', 'SRKingSizeBed',\n",
    "       'SRTwinBed', 'SRNearElevator', 'SRAwayFromElevator',\n",
    "       'SRNoAlcoholInMiniBar', 'SRQuietRoom']\n",
    "\t\n",
    "model.predict(np.array(feature).reshape(1,-1))\n"
   ]
  }
 ],
 "metadata": {
  "kernelspec": {
   "display_name": "Python 3 (ipykernel)",
   "language": "python",
   "name": "python3"
  },
  "language_info": {
   "codemirror_mode": {
    "name": "ipython",
    "version": 3
   },
   "file_extension": ".py",
   "mimetype": "text/x-python",
   "name": "python",
   "nbconvert_exporter": "python",
   "pygments_lexer": "ipython3",
   "version": "3.9.12"
  }
 },
 "nbformat": 4,
 "nbformat_minor": 5
}
